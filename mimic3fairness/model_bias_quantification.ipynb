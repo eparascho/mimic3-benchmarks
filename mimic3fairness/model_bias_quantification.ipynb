{
 "cells": [
  {
   "cell_type": "code",
   "execution_count": 17,
   "metadata": {
    "collapsed": true,
    "pycharm": {
     "name": "#%%\n"
    }
   },
   "outputs": [],
   "source": [
    "import aif360\n",
    "import pandas as pd\n",
    "from aif360.datasets import BinaryLabelDataset\n",
    "from aif360.metrics import ClassificationMetric"
   ]
  },
  {
   "cell_type": "code",
   "execution_count": 18,
   "outputs": [
    {
     "data": {
      "text/plain": "      SUBJECT_ID  Y_PRED  Y_TRUE  GENDER  LANGUAGE  INSURANCE  RELIGION   \n0          10011       1       1       0         1          1         1  \\\n1          10026       0       0       0         1          1         0   \n2          10030       0       0       1         1          1         1   \n3          10042       0       0       1         1          1         1   \n4          10094       0       0       1         1          1         1   \n...          ...     ...     ...     ...       ...        ...       ...   \n3231        9970       0       0       1         1          1         1   \n3232        9977       0       0       1         1          1         1   \n3233       99863       0       0       1         0          1         1   \n3234       99883       0       0       1         1          1         1   \n3235       99899       1       1       1         1          1         1   \n\n      ETHNICITY  AGE  \n0             0    1  \n1             1    0  \n2             1    0  \n3             1    0  \n4             0    0  \n...         ...  ...  \n3231          1    1  \n3232          1    0  \n3233          1    1  \n3234          1    0  \n3235          0    0  \n\n[3236 rows x 9 columns]",
      "text/html": "<div>\n<style scoped>\n    .dataframe tbody tr th:only-of-type {\n        vertical-align: middle;\n    }\n\n    .dataframe tbody tr th {\n        vertical-align: top;\n    }\n\n    .dataframe thead th {\n        text-align: right;\n    }\n</style>\n<table border=\"1\" class=\"dataframe\">\n  <thead>\n    <tr style=\"text-align: right;\">\n      <th></th>\n      <th>SUBJECT_ID</th>\n      <th>Y_PRED</th>\n      <th>Y_TRUE</th>\n      <th>GENDER</th>\n      <th>LANGUAGE</th>\n      <th>INSURANCE</th>\n      <th>RELIGION</th>\n      <th>ETHNICITY</th>\n      <th>AGE</th>\n    </tr>\n  </thead>\n  <tbody>\n    <tr>\n      <th>0</th>\n      <td>10011</td>\n      <td>1</td>\n      <td>1</td>\n      <td>0</td>\n      <td>1</td>\n      <td>1</td>\n      <td>1</td>\n      <td>0</td>\n      <td>1</td>\n    </tr>\n    <tr>\n      <th>1</th>\n      <td>10026</td>\n      <td>0</td>\n      <td>0</td>\n      <td>0</td>\n      <td>1</td>\n      <td>1</td>\n      <td>0</td>\n      <td>1</td>\n      <td>0</td>\n    </tr>\n    <tr>\n      <th>2</th>\n      <td>10030</td>\n      <td>0</td>\n      <td>0</td>\n      <td>1</td>\n      <td>1</td>\n      <td>1</td>\n      <td>1</td>\n      <td>1</td>\n      <td>0</td>\n    </tr>\n    <tr>\n      <th>3</th>\n      <td>10042</td>\n      <td>0</td>\n      <td>0</td>\n      <td>1</td>\n      <td>1</td>\n      <td>1</td>\n      <td>1</td>\n      <td>1</td>\n      <td>0</td>\n    </tr>\n    <tr>\n      <th>4</th>\n      <td>10094</td>\n      <td>0</td>\n      <td>0</td>\n      <td>1</td>\n      <td>1</td>\n      <td>1</td>\n      <td>1</td>\n      <td>0</td>\n      <td>0</td>\n    </tr>\n    <tr>\n      <th>...</th>\n      <td>...</td>\n      <td>...</td>\n      <td>...</td>\n      <td>...</td>\n      <td>...</td>\n      <td>...</td>\n      <td>...</td>\n      <td>...</td>\n      <td>...</td>\n    </tr>\n    <tr>\n      <th>3231</th>\n      <td>9970</td>\n      <td>0</td>\n      <td>0</td>\n      <td>1</td>\n      <td>1</td>\n      <td>1</td>\n      <td>1</td>\n      <td>1</td>\n      <td>1</td>\n    </tr>\n    <tr>\n      <th>3232</th>\n      <td>9977</td>\n      <td>0</td>\n      <td>0</td>\n      <td>1</td>\n      <td>1</td>\n      <td>1</td>\n      <td>1</td>\n      <td>1</td>\n      <td>0</td>\n    </tr>\n    <tr>\n      <th>3233</th>\n      <td>99863</td>\n      <td>0</td>\n      <td>0</td>\n      <td>1</td>\n      <td>0</td>\n      <td>1</td>\n      <td>1</td>\n      <td>1</td>\n      <td>1</td>\n    </tr>\n    <tr>\n      <th>3234</th>\n      <td>99883</td>\n      <td>0</td>\n      <td>0</td>\n      <td>1</td>\n      <td>1</td>\n      <td>1</td>\n      <td>1</td>\n      <td>1</td>\n      <td>0</td>\n    </tr>\n    <tr>\n      <th>3235</th>\n      <td>99899</td>\n      <td>1</td>\n      <td>1</td>\n      <td>1</td>\n      <td>1</td>\n      <td>1</td>\n      <td>1</td>\n      <td>0</td>\n      <td>0</td>\n    </tr>\n  </tbody>\n</table>\n<p>3236 rows × 9 columns</p>\n</div>"
     },
     "execution_count": 18,
     "metadata": {},
     "output_type": "execute_result"
    }
   ],
   "source": [
    "df = pd.read_csv('data/dataframe_final.csv')\n",
    "protected_attributes = ['GENDER', 'LANGUAGE', 'INSURANCE', 'RELIGION', 'ETHNICITY', 'AGE']\n",
    "metrics = ['Error Rate Difference (ERD)', 'False Positive Rate Difference (FPRD)', 'False Discovery Rate Difference (FDRD)', 'Positive Predicted Value (PPV)']\n",
    "df"
   ],
   "metadata": {
    "collapsed": false,
    "pycharm": {
     "name": "#%%\n"
    }
   }
  },
  {
   "cell_type": "code",
   "execution_count": 19,
   "outputs": [],
   "source": [
    "# create the table to be printed\n",
    "df_print = pd.DataFrame(columns=protected_attributes, index=[metrics])"
   ],
   "metadata": {
    "collapsed": false,
    "pycharm": {
     "name": "#%%\n"
    }
   }
  },
  {
   "cell_type": "code",
   "execution_count": 20,
   "outputs": [
    {
     "data": {
      "text/plain": "                                          GENDER  LANGUAGE  INSURANCE   \nError Rate Difference (ERD)             0.015614  0.008343  -0.017292  \\\nFalse Positive Rate Difference (FPRD)   0.005234 -0.002806   0.008616   \nFalse Discovery Rate Difference (FDRD)  0.032453 -0.064643  -0.176344   \nPositive Predicted Value (PPV)          0.628272  0.628272   0.628272   \n\n                                        RELIGION  ETHNICITY       AGE  \nError Rate Difference (ERD)             0.021871   0.007677  0.044510  \nFalse Positive Rate Difference (FPRD)   0.000565   0.003875 -0.005059  \nFalse Discovery Rate Difference (FDRD)  0.099052   0.020293 -0.127575  \nPositive Predicted Value (PPV)          0.628272   0.628272  0.628272  ",
      "text/html": "<div>\n<style scoped>\n    .dataframe tbody tr th:only-of-type {\n        vertical-align: middle;\n    }\n\n    .dataframe tbody tr th {\n        vertical-align: top;\n    }\n\n    .dataframe thead th {\n        text-align: right;\n    }\n</style>\n<table border=\"1\" class=\"dataframe\">\n  <thead>\n    <tr style=\"text-align: right;\">\n      <th></th>\n      <th>GENDER</th>\n      <th>LANGUAGE</th>\n      <th>INSURANCE</th>\n      <th>RELIGION</th>\n      <th>ETHNICITY</th>\n      <th>AGE</th>\n    </tr>\n  </thead>\n  <tbody>\n    <tr>\n      <th>Error Rate Difference (ERD)</th>\n      <td>0.015614</td>\n      <td>0.008343</td>\n      <td>-0.017292</td>\n      <td>0.021871</td>\n      <td>0.007677</td>\n      <td>0.044510</td>\n    </tr>\n    <tr>\n      <th>False Positive Rate Difference (FPRD)</th>\n      <td>0.005234</td>\n      <td>-0.002806</td>\n      <td>0.008616</td>\n      <td>0.000565</td>\n      <td>0.003875</td>\n      <td>-0.005059</td>\n    </tr>\n    <tr>\n      <th>False Discovery Rate Difference (FDRD)</th>\n      <td>0.032453</td>\n      <td>-0.064643</td>\n      <td>-0.176344</td>\n      <td>0.099052</td>\n      <td>0.020293</td>\n      <td>-0.127575</td>\n    </tr>\n    <tr>\n      <th>Positive Predicted Value (PPV)</th>\n      <td>0.628272</td>\n      <td>0.628272</td>\n      <td>0.628272</td>\n      <td>0.628272</td>\n      <td>0.628272</td>\n      <td>0.628272</td>\n    </tr>\n  </tbody>\n</table>\n</div>"
     },
     "execution_count": 20,
     "metadata": {},
     "output_type": "execute_result"
    }
   ],
   "source": [
    "for protected_attribute in protected_attributes:\n",
    "    # prepare the dataset in the format that aif360 requires\n",
    "    ytrue_df = df['Y_TRUE'].to_frame()\n",
    "    ytrue_df.rename(columns={0: 'Y_TRUE'}, inplace=True)\n",
    "    attribute_df = df[protected_attribute].to_frame()\n",
    "    attribute_df.rename(columns={0: protected_attribute}, inplace=True)\n",
    "    attribute_df = pd.concat([attribute_df, ytrue_df], axis=1)\n",
    "\n",
    "    # create the aif360 dataset with the ground truth\n",
    "    dataset = BinaryLabelDataset(\n",
    "        favorable_label=1,\n",
    "        unfavorable_label=0,\n",
    "        df=attribute_df,\n",
    "        label_names=['Y_TRUE'],\n",
    "        protected_attribute_names=[protected_attribute]\n",
    "    )\n",
    "\n",
    "    # create the aif360 dataset with the predictions\n",
    "    dataset_pred = dataset.copy()\n",
    "    dataset_pred.labels = df['Y_PRED']\n",
    "\n",
    "    # creates an object that computes metrics for binary classification\n",
    "    index = dataset_pred.protected_attribute_names.index(protected_attribute)\n",
    "    privileged_groups = [{protected_attribute: dataset_pred.privileged_protected_attributes[index][0]}]\n",
    "    unprivileged_groups = [{protected_attribute: dataset_pred.unprivileged_protected_attributes[index][0]}]\n",
    "    classified_metric = ClassificationMetric(dataset, dataset_pred, unprivileged_groups=unprivileged_groups, privileged_groups=privileged_groups)\n",
    "\n",
    "    # fill in the metrics\n",
    "    df_print[protected_attribute] = [classified_metric.error_rate_difference(), classified_metric.false_positive_rate_difference(), classified_metric.false_discovery_rate_difference(), classified_metric.positive_predictive_value()]\n",
    "df_print"
   ],
   "metadata": {
    "collapsed": false,
    "pycharm": {
     "name": "#%%\n"
    }
   }
  },
  {
   "cell_type": "code",
   "execution_count": 20,
   "outputs": [],
   "source": [],
   "metadata": {
    "collapsed": false,
    "pycharm": {
     "name": "#%%\n"
    }
   }
  }
 ],
 "metadata": {
  "kernelspec": {
   "display_name": "Python 3",
   "language": "python",
   "name": "python3"
  },
  "language_info": {
   "codemirror_mode": {
    "name": "ipython",
    "version": 2
   },
   "file_extension": ".py",
   "mimetype": "text/x-python",
   "name": "python",
   "nbconvert_exporter": "python",
   "pygments_lexer": "ipython2",
   "version": "2.7.6"
  }
 },
 "nbformat": 4,
 "nbformat_minor": 0
}