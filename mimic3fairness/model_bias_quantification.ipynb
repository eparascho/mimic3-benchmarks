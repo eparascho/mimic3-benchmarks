{
 "cells": [
  {
   "cell_type": "code",
   "execution_count": 75,
   "metadata": {
    "collapsed": true,
    "pycharm": {
     "name": "#%%\n"
    }
   },
   "outputs": [],
   "source": [
    "import aif360\n",
    "import pandas as pd\n",
    "from aif360.datasets import BinaryLabelDataset\n",
    "from aif360.metrics import ClassificationMetric"
   ]
  },
  {
   "cell_type": "code",
   "execution_count": 76,
   "outputs": [
    {
     "data": {
      "text/plain": "      SUBJECT_ID  Y_PRED  Y_TRUE  GENDER  LANGUAGE  INSURANCE  RELIGION   \n0          10011       1       1       0         1          1         1  \\\n1          10026       0       0       0         1          1         0   \n2          10030       0       0       1         1          1         1   \n3          10042       0       0       1         1          1         1   \n4          10094       0       0       1         1          1         1   \n...          ...     ...     ...     ...       ...        ...       ...   \n3231        9970       0       0       1         1          1         1   \n3232        9977       0       0       1         1          1         1   \n3233       99863       0       0       1         0          1         1   \n3234       99883       0       0       1         1          1         1   \n3235       99899       1       1       1         1          1         1   \n\n      ETHNICITY  AGE  \n0             0    1  \n1             1    0  \n2             1    0  \n3             1    0  \n4             0    0  \n...         ...  ...  \n3231          1    1  \n3232          1    0  \n3233          1    1  \n3234          1    0  \n3235          0    0  \n\n[3236 rows x 9 columns]",
      "text/html": "<div>\n<style scoped>\n    .dataframe tbody tr th:only-of-type {\n        vertical-align: middle;\n    }\n\n    .dataframe tbody tr th {\n        vertical-align: top;\n    }\n\n    .dataframe thead th {\n        text-align: right;\n    }\n</style>\n<table border=\"1\" class=\"dataframe\">\n  <thead>\n    <tr style=\"text-align: right;\">\n      <th></th>\n      <th>SUBJECT_ID</th>\n      <th>Y_PRED</th>\n      <th>Y_TRUE</th>\n      <th>GENDER</th>\n      <th>LANGUAGE</th>\n      <th>INSURANCE</th>\n      <th>RELIGION</th>\n      <th>ETHNICITY</th>\n      <th>AGE</th>\n    </tr>\n  </thead>\n  <tbody>\n    <tr>\n      <th>0</th>\n      <td>10011</td>\n      <td>1</td>\n      <td>1</td>\n      <td>0</td>\n      <td>1</td>\n      <td>1</td>\n      <td>1</td>\n      <td>0</td>\n      <td>1</td>\n    </tr>\n    <tr>\n      <th>1</th>\n      <td>10026</td>\n      <td>0</td>\n      <td>0</td>\n      <td>0</td>\n      <td>1</td>\n      <td>1</td>\n      <td>0</td>\n      <td>1</td>\n      <td>0</td>\n    </tr>\n    <tr>\n      <th>2</th>\n      <td>10030</td>\n      <td>0</td>\n      <td>0</td>\n      <td>1</td>\n      <td>1</td>\n      <td>1</td>\n      <td>1</td>\n      <td>1</td>\n      <td>0</td>\n    </tr>\n    <tr>\n      <th>3</th>\n      <td>10042</td>\n      <td>0</td>\n      <td>0</td>\n      <td>1</td>\n      <td>1</td>\n      <td>1</td>\n      <td>1</td>\n      <td>1</td>\n      <td>0</td>\n    </tr>\n    <tr>\n      <th>4</th>\n      <td>10094</td>\n      <td>0</td>\n      <td>0</td>\n      <td>1</td>\n      <td>1</td>\n      <td>1</td>\n      <td>1</td>\n      <td>0</td>\n      <td>0</td>\n    </tr>\n    <tr>\n      <th>...</th>\n      <td>...</td>\n      <td>...</td>\n      <td>...</td>\n      <td>...</td>\n      <td>...</td>\n      <td>...</td>\n      <td>...</td>\n      <td>...</td>\n      <td>...</td>\n    </tr>\n    <tr>\n      <th>3231</th>\n      <td>9970</td>\n      <td>0</td>\n      <td>0</td>\n      <td>1</td>\n      <td>1</td>\n      <td>1</td>\n      <td>1</td>\n      <td>1</td>\n      <td>1</td>\n    </tr>\n    <tr>\n      <th>3232</th>\n      <td>9977</td>\n      <td>0</td>\n      <td>0</td>\n      <td>1</td>\n      <td>1</td>\n      <td>1</td>\n      <td>1</td>\n      <td>1</td>\n      <td>0</td>\n    </tr>\n    <tr>\n      <th>3233</th>\n      <td>99863</td>\n      <td>0</td>\n      <td>0</td>\n      <td>1</td>\n      <td>0</td>\n      <td>1</td>\n      <td>1</td>\n      <td>1</td>\n      <td>1</td>\n    </tr>\n    <tr>\n      <th>3234</th>\n      <td>99883</td>\n      <td>0</td>\n      <td>0</td>\n      <td>1</td>\n      <td>1</td>\n      <td>1</td>\n      <td>1</td>\n      <td>1</td>\n      <td>0</td>\n    </tr>\n    <tr>\n      <th>3235</th>\n      <td>99899</td>\n      <td>1</td>\n      <td>1</td>\n      <td>1</td>\n      <td>1</td>\n      <td>1</td>\n      <td>1</td>\n      <td>0</td>\n      <td>0</td>\n    </tr>\n  </tbody>\n</table>\n<p>3236 rows × 9 columns</p>\n</div>"
     },
     "execution_count": 76,
     "metadata": {},
     "output_type": "execute_result"
    }
   ],
   "source": [
    "df = pd.read_csv('data/dataframe_final.csv')\n",
    "protected_attributes = ['GENDER', 'LANGUAGE', 'INSURANCE', 'RELIGION', 'ETHNICITY', 'AGE']\n",
    "df"
   ],
   "metadata": {
    "collapsed": false,
    "pycharm": {
     "name": "#%%\n"
    }
   }
  },
  {
   "cell_type": "code",
   "execution_count": 77,
   "outputs": [
    {
     "name": "stdout",
     "output_type": "stream",
     "text": [
      "For  GENDER  :\n",
      "Error rate:  0.10043263288009885\n",
      "Error rate difference:  0.015614395546898363\n",
      "Error rate ratio:  1.1670182666534308\n",
      "False omission rate:  0.08341543513957307\n",
      "False omission rate difference:  0.012607172328908914\n",
      "False omission rate ratio:  1.1619830626502237\n",
      "---------------------------------------------\n",
      "For  LANGUAGE  :\n",
      "Error rate:  0.10043263288009885\n",
      "Error rate difference:  0.008343244151104434\n",
      "Error rate ratio:  1.0836290836290838\n",
      "False omission rate:  0.08341543513957307\n",
      "False omission rate difference:  0.012209092270952848\n",
      "False omission rate ratio:  1.1480947036502591\n",
      "---------------------------------------------\n",
      "For  INSURANCE  :\n",
      "Error rate:  0.10043263288009885\n",
      "Error rate difference:  -0.017291666666666594\n",
      "Error rate ratio:  0.828157349896481\n",
      "False omission rate:  0.08341543513957307\n",
      "False omission rate difference:  -0.019093691803840143\n",
      "False omission rate ratio:  0.7716333845366103\n",
      "---------------------------------------------\n",
      "For  RELIGION  :\n",
      "Error rate:  0.10043263288009885\n",
      "Error rate difference:  0.021871320932422833\n",
      "Error rate ratio:  1.22529105020616\n",
      "False omission rate:  0.08341543513957307\n",
      "False omission rate difference:  0.021632731033483316\n",
      "False omission rate ratio:  1.2701991114036533\n",
      "---------------------------------------------\n",
      "For  ETHNICITY  :\n",
      "Error rate:  0.10043263288009885\n",
      "Error rate difference:  0.007677003098087165\n",
      "Error rate ratio:  1.0781109922207122\n",
      "False omission rate:  0.08341543513957307\n",
      "False omission rate difference:  0.005194153198555679\n",
      "False omission rate ratio:  1.0633686690223794\n",
      "---------------------------------------------\n",
      "For  AGE  :\n",
      "Error rate:  0.10043263288009885\n",
      "Error rate difference:  0.04451012165629331\n",
      "Error rate ratio:  1.5801664133130644\n",
      "False omission rate:  0.08341543513957307\n",
      "False omission rate difference:  0.05401062245581269\n",
      "False omission rate ratio:  1.9874249695126782\n",
      "---------------------------------------------\n"
     ]
    }
   ],
   "source": [
    "for protected_attribute in protected_attributes:\n",
    "    # prepare the dataset in the format that aif360 requires\n",
    "    ytrue_df = df['Y_TRUE'].to_frame()\n",
    "    ytrue_df.rename(columns={0: 'Y_TRUE'}, inplace=True)\n",
    "    attribute_df = df[protected_attribute].to_frame()\n",
    "    attribute_df.rename(columns={0: protected_attribute}, inplace=True)\n",
    "    attribute_df = pd.concat([attribute_df, ytrue_df], axis=1)\n",
    "\n",
    "    # create the aif360 dataset with the ground truth\n",
    "    dataset = BinaryLabelDataset(\n",
    "        favorable_label=1,\n",
    "        unfavorable_label=0,\n",
    "        df=attribute_df,\n",
    "        label_names=['Y_TRUE'],\n",
    "        protected_attribute_names=[protected_attribute]\n",
    "    )\n",
    "\n",
    "    # create the aif360 dataset with the predictions\n",
    "    dataset_pred = dataset.copy()\n",
    "    dataset_pred.labels = df['Y_PRED']\n",
    "\n",
    "    # creates an object that computes metrics for binary classification\n",
    "    index = dataset_pred.protected_attribute_names.index(protected_attribute)\n",
    "    privileged_groups = [{protected_attribute: dataset_pred.privileged_protected_attributes[index][0]}]\n",
    "    unprivileged_groups = [{protected_attribute: dataset_pred.unprivileged_protected_attributes[index][0]}]\n",
    "    classified_metric = ClassificationMetric(dataset, dataset_pred, unprivileged_groups=unprivileged_groups, privileged_groups=privileged_groups)\n",
    "\n",
    "    # print the metrics\n",
    "    print(\"For \", protected_attribute, \" :\")\n",
    "    print(\"Error rate: \", classified_metric.error_rate())\n",
    "    print(\"Error rate difference: \", classified_metric.error_rate_difference())\n",
    "    print(\"Error rate ratio: \", classified_metric.error_rate_ratio())\n",
    "    print(\"False omission rate: \", classified_metric.false_omission_rate())\n",
    "    print(\"False omission rate difference: \", classified_metric.false_omission_rate_difference())\n",
    "    print(\"False omission rate ratio: \", classified_metric.false_omission_rate_ratio())\n",
    "    print(\"---------------------------------------------\")"
   ],
   "metadata": {
    "collapsed": false,
    "pycharm": {
     "name": "#%%\n"
    }
   }
  }
 ],
 "metadata": {
  "kernelspec": {
   "display_name": "Python 3",
   "language": "python",
   "name": "python3"
  },
  "language_info": {
   "codemirror_mode": {
    "name": "ipython",
    "version": 2
   },
   "file_extension": ".py",
   "mimetype": "text/x-python",
   "name": "python",
   "nbconvert_exporter": "python",
   "pygments_lexer": "ipython2",
   "version": "2.7.6"
  }
 },
 "nbformat": 4,
 "nbformat_minor": 0
}