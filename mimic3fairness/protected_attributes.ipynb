{
 "cells": [
  {
   "cell_type": "code",
   "execution_count": 4,
   "metadata": {
    "collapsed": true,
    "pycharm": {
     "name": "#%%\n"
    }
   },
   "outputs": [],
   "source": [
    "import pandas as pd\n",
    "from matplotlib import pyplot as plt"
   ]
  },
  {
   "cell_type": "markdown",
   "source": [
    "Read the files that contain the protected attributes/demographics"
   ],
   "metadata": {
    "collapsed": false,
    "pycharm": {
     "name": "#%% md\n"
    }
   }
  },
  {
   "cell_type": "code",
   "execution_count": 272,
   "outputs": [
    {
     "data": {
      "text/plain": "       ROW_ID  SUBJECT_ID GENDER                  DOB                  DOD   \n0         234         249      F  2075-03-13 00:00:00                  NaN  \\\n1         235         250      F  2164-12-27 00:00:00  2188-11-22 00:00:00   \n2         236         251      M  2090-03-15 00:00:00                  NaN   \n3         237         252      M  2078-03-06 00:00:00                  NaN   \n4         238         253      F  2089-11-26 00:00:00                  NaN   \n...       ...         ...    ...                  ...                  ...   \n46515   31840       44089      M  2026-05-25 00:00:00                  NaN   \n46516   31841       44115      F  2124-07-27 00:00:00                  NaN   \n46517   31842       44123      F  2049-11-26 00:00:00  2135-01-12 00:00:00   \n46518   31843       44126      F  2076-07-25 00:00:00                  NaN   \n46519   31844       44128      M  2098-07-25 00:00:00                  NaN   \n\n                  DOD_HOSP DOD_SSN  EXPIRE_FLAG  \n0                      NaN     NaN            0  \n1      2188-11-22 00:00:00     NaN            1  \n2                      NaN     NaN            0  \n3                      NaN     NaN            0  \n4                      NaN     NaN            0  \n...                    ...     ...          ...  \n46515                  NaN     NaN            0  \n46516                  NaN     NaN            0  \n46517  2135-01-12 00:00:00     NaN            1  \n46518                  NaN     NaN            0  \n46519                  NaN     NaN            0  \n\n[46520 rows x 8 columns]",
      "text/html": "<div>\n<style scoped>\n    .dataframe tbody tr th:only-of-type {\n        vertical-align: middle;\n    }\n\n    .dataframe tbody tr th {\n        vertical-align: top;\n    }\n\n    .dataframe thead th {\n        text-align: right;\n    }\n</style>\n<table border=\"1\" class=\"dataframe\">\n  <thead>\n    <tr style=\"text-align: right;\">\n      <th></th>\n      <th>ROW_ID</th>\n      <th>SUBJECT_ID</th>\n      <th>GENDER</th>\n      <th>DOB</th>\n      <th>DOD</th>\n      <th>DOD_HOSP</th>\n      <th>DOD_SSN</th>\n      <th>EXPIRE_FLAG</th>\n    </tr>\n  </thead>\n  <tbody>\n    <tr>\n      <th>0</th>\n      <td>234</td>\n      <td>249</td>\n      <td>F</td>\n      <td>2075-03-13 00:00:00</td>\n      <td>NaN</td>\n      <td>NaN</td>\n      <td>NaN</td>\n      <td>0</td>\n    </tr>\n    <tr>\n      <th>1</th>\n      <td>235</td>\n      <td>250</td>\n      <td>F</td>\n      <td>2164-12-27 00:00:00</td>\n      <td>2188-11-22 00:00:00</td>\n      <td>2188-11-22 00:00:00</td>\n      <td>NaN</td>\n      <td>1</td>\n    </tr>\n    <tr>\n      <th>2</th>\n      <td>236</td>\n      <td>251</td>\n      <td>M</td>\n      <td>2090-03-15 00:00:00</td>\n      <td>NaN</td>\n      <td>NaN</td>\n      <td>NaN</td>\n      <td>0</td>\n    </tr>\n    <tr>\n      <th>3</th>\n      <td>237</td>\n      <td>252</td>\n      <td>M</td>\n      <td>2078-03-06 00:00:00</td>\n      <td>NaN</td>\n      <td>NaN</td>\n      <td>NaN</td>\n      <td>0</td>\n    </tr>\n    <tr>\n      <th>4</th>\n      <td>238</td>\n      <td>253</td>\n      <td>F</td>\n      <td>2089-11-26 00:00:00</td>\n      <td>NaN</td>\n      <td>NaN</td>\n      <td>NaN</td>\n      <td>0</td>\n    </tr>\n    <tr>\n      <th>...</th>\n      <td>...</td>\n      <td>...</td>\n      <td>...</td>\n      <td>...</td>\n      <td>...</td>\n      <td>...</td>\n      <td>...</td>\n      <td>...</td>\n    </tr>\n    <tr>\n      <th>46515</th>\n      <td>31840</td>\n      <td>44089</td>\n      <td>M</td>\n      <td>2026-05-25 00:00:00</td>\n      <td>NaN</td>\n      <td>NaN</td>\n      <td>NaN</td>\n      <td>0</td>\n    </tr>\n    <tr>\n      <th>46516</th>\n      <td>31841</td>\n      <td>44115</td>\n      <td>F</td>\n      <td>2124-07-27 00:00:00</td>\n      <td>NaN</td>\n      <td>NaN</td>\n      <td>NaN</td>\n      <td>0</td>\n    </tr>\n    <tr>\n      <th>46517</th>\n      <td>31842</td>\n      <td>44123</td>\n      <td>F</td>\n      <td>2049-11-26 00:00:00</td>\n      <td>2135-01-12 00:00:00</td>\n      <td>2135-01-12 00:00:00</td>\n      <td>NaN</td>\n      <td>1</td>\n    </tr>\n    <tr>\n      <th>46518</th>\n      <td>31843</td>\n      <td>44126</td>\n      <td>F</td>\n      <td>2076-07-25 00:00:00</td>\n      <td>NaN</td>\n      <td>NaN</td>\n      <td>NaN</td>\n      <td>0</td>\n    </tr>\n    <tr>\n      <th>46519</th>\n      <td>31844</td>\n      <td>44128</td>\n      <td>M</td>\n      <td>2098-07-25 00:00:00</td>\n      <td>NaN</td>\n      <td>NaN</td>\n      <td>NaN</td>\n      <td>0</td>\n    </tr>\n  </tbody>\n</table>\n<p>46520 rows × 8 columns</p>\n</div>"
     },
     "execution_count": 272,
     "metadata": {},
     "output_type": "execute_result"
    }
   ],
   "source": [
    "patients = pd.read_csv('data/PATIENTS.csv')\n",
    "patients"
   ],
   "metadata": {
    "collapsed": false,
    "pycharm": {
     "name": "#%%\n"
    }
   }
  },
  {
   "cell_type": "code",
   "execution_count": 273,
   "outputs": [
    {
     "data": {
      "text/plain": "       ROW_ID  SUBJECT_ID  HADM_ID            ADMITTIME            DISCHTIME   \n0          21          22   165315  2196-04-09 12:26:00  2196-04-10 15:54:00  \\\n1          22          23   152223  2153-09-03 07:15:00  2153-09-08 19:10:00   \n2          23          23   124321  2157-10-18 19:34:00  2157-10-25 14:00:00   \n3          24          24   161859  2139-06-06 16:14:00  2139-06-09 12:48:00   \n4          25          25   129635  2160-11-02 02:06:00  2160-11-05 14:55:00   \n...       ...         ...      ...                  ...                  ...   \n58971   58594       98800   191113  2131-03-30 21:13:00  2131-04-02 15:02:00   \n58972   58595       98802   101071  2151-03-05 20:00:00  2151-03-06 09:10:00   \n58973   58596       98805   122631  2200-09-12 07:15:00  2200-09-20 12:08:00   \n58974   58597       98813   170407  2128-11-11 02:29:00  2128-12-22 13:11:00   \n58975   58598       98813   190264  2131-10-25 03:09:00  2131-10-26 17:44:00   \n\n                 DEATHTIME ADMISSION_TYPE         ADMISSION_LOCATION   \n0                      NaN      EMERGENCY       EMERGENCY ROOM ADMIT  \\\n1                      NaN       ELECTIVE  PHYS REFERRAL/NORMAL DELI   \n2                      NaN      EMERGENCY  TRANSFER FROM HOSP/EXTRAM   \n3                      NaN      EMERGENCY  TRANSFER FROM HOSP/EXTRAM   \n4                      NaN      EMERGENCY       EMERGENCY ROOM ADMIT   \n...                    ...            ...                        ...   \n58971                  NaN      EMERGENCY  CLINIC REFERRAL/PREMATURE   \n58972  2151-03-06 09:10:00      EMERGENCY  CLINIC REFERRAL/PREMATURE   \n58973                  NaN       ELECTIVE  PHYS REFERRAL/NORMAL DELI   \n58974                  NaN      EMERGENCY       EMERGENCY ROOM ADMIT   \n58975                  NaN      EMERGENCY  CLINIC REFERRAL/PREMATURE   \n\n              DISCHARGE_LOCATION INSURANCE LANGUAGE           RELIGION   \n0      DISC-TRAN CANCER/CHLDRN H   Private      NaN       UNOBTAINABLE  \\\n1               HOME HEALTH CARE  Medicare      NaN           CATHOLIC   \n2               HOME HEALTH CARE  Medicare     ENGL           CATHOLIC   \n3                           HOME   Private      NaN  PROTESTANT QUAKER   \n4                           HOME   Private      NaN       UNOBTAINABLE   \n...                          ...       ...      ...                ...   \n58971                       HOME   Private     ENGL      NOT SPECIFIED   \n58972               DEAD/EXPIRED  Medicare     ENGL           CATHOLIC   \n58973           HOME HEALTH CARE   Private     ENGL      NOT SPECIFIED   \n58974                        SNF   Private     ENGL           CATHOLIC   \n58975                       HOME   Private     ENGL           CATHOLIC   \n\n      MARITAL_STATUS ETHNICITY            EDREGTIME            EDOUTTIME   \n0            MARRIED     WHITE  2196-04-09 10:06:00  2196-04-09 13:24:00  \\\n1            MARRIED     WHITE                  NaN                  NaN   \n2            MARRIED     WHITE                  NaN                  NaN   \n3             SINGLE     WHITE                  NaN                  NaN   \n4            MARRIED     WHITE  2160-11-02 01:01:00  2160-11-02 04:27:00   \n...              ...       ...                  ...                  ...   \n58971         SINGLE     WHITE  2131-03-30 19:44:00  2131-03-30 22:41:00   \n58972        WIDOWED     WHITE  2151-03-05 17:23:00  2151-03-05 21:06:00   \n58973        MARRIED     WHITE                  NaN                  NaN   \n58974        MARRIED     WHITE  2128-11-10 23:48:00  2128-11-11 03:16:00   \n58975        MARRIED     WHITE  2131-10-25 00:08:00  2131-10-25 04:35:00   \n\n                                               DIAGNOSIS   \n0                                BENZODIAZEPINE OVERDOSE  \\\n1      CORONARY ARTERY DISEASE\\CORONARY ARTERY BYPASS...   \n2                                             BRAIN MASS   \n3                         INTERIOR MYOCARDIAL INFARCTION   \n4                                ACUTE CORONARY SYNDROME   \n...                                                  ...   \n58971                                             TRAUMA   \n58972                                                SAH   \n58973                                   RENAL CANCER/SDA   \n58974                                           S/P FALL   \n58975                            INTRACRANIAL HEMORRHAGE   \n\n       HOSPITAL_EXPIRE_FLAG  HAS_CHARTEVENTS_DATA  \n0                         0                     1  \n1                         0                     1  \n2                         0                     1  \n3                         0                     1  \n4                         0                     1  \n...                     ...                   ...  \n58971                     0                     1  \n58972                     1                     1  \n58973                     0                     1  \n58974                     0                     0  \n58975                     0                     1  \n\n[58976 rows x 19 columns]",
      "text/html": "<div>\n<style scoped>\n    .dataframe tbody tr th:only-of-type {\n        vertical-align: middle;\n    }\n\n    .dataframe tbody tr th {\n        vertical-align: top;\n    }\n\n    .dataframe thead th {\n        text-align: right;\n    }\n</style>\n<table border=\"1\" class=\"dataframe\">\n  <thead>\n    <tr style=\"text-align: right;\">\n      <th></th>\n      <th>ROW_ID</th>\n      <th>SUBJECT_ID</th>\n      <th>HADM_ID</th>\n      <th>ADMITTIME</th>\n      <th>DISCHTIME</th>\n      <th>DEATHTIME</th>\n      <th>ADMISSION_TYPE</th>\n      <th>ADMISSION_LOCATION</th>\n      <th>DISCHARGE_LOCATION</th>\n      <th>INSURANCE</th>\n      <th>LANGUAGE</th>\n      <th>RELIGION</th>\n      <th>MARITAL_STATUS</th>\n      <th>ETHNICITY</th>\n      <th>EDREGTIME</th>\n      <th>EDOUTTIME</th>\n      <th>DIAGNOSIS</th>\n      <th>HOSPITAL_EXPIRE_FLAG</th>\n      <th>HAS_CHARTEVENTS_DATA</th>\n    </tr>\n  </thead>\n  <tbody>\n    <tr>\n      <th>0</th>\n      <td>21</td>\n      <td>22</td>\n      <td>165315</td>\n      <td>2196-04-09 12:26:00</td>\n      <td>2196-04-10 15:54:00</td>\n      <td>NaN</td>\n      <td>EMERGENCY</td>\n      <td>EMERGENCY ROOM ADMIT</td>\n      <td>DISC-TRAN CANCER/CHLDRN H</td>\n      <td>Private</td>\n      <td>NaN</td>\n      <td>UNOBTAINABLE</td>\n      <td>MARRIED</td>\n      <td>WHITE</td>\n      <td>2196-04-09 10:06:00</td>\n      <td>2196-04-09 13:24:00</td>\n      <td>BENZODIAZEPINE OVERDOSE</td>\n      <td>0</td>\n      <td>1</td>\n    </tr>\n    <tr>\n      <th>1</th>\n      <td>22</td>\n      <td>23</td>\n      <td>152223</td>\n      <td>2153-09-03 07:15:00</td>\n      <td>2153-09-08 19:10:00</td>\n      <td>NaN</td>\n      <td>ELECTIVE</td>\n      <td>PHYS REFERRAL/NORMAL DELI</td>\n      <td>HOME HEALTH CARE</td>\n      <td>Medicare</td>\n      <td>NaN</td>\n      <td>CATHOLIC</td>\n      <td>MARRIED</td>\n      <td>WHITE</td>\n      <td>NaN</td>\n      <td>NaN</td>\n      <td>CORONARY ARTERY DISEASE\\CORONARY ARTERY BYPASS...</td>\n      <td>0</td>\n      <td>1</td>\n    </tr>\n    <tr>\n      <th>2</th>\n      <td>23</td>\n      <td>23</td>\n      <td>124321</td>\n      <td>2157-10-18 19:34:00</td>\n      <td>2157-10-25 14:00:00</td>\n      <td>NaN</td>\n      <td>EMERGENCY</td>\n      <td>TRANSFER FROM HOSP/EXTRAM</td>\n      <td>HOME HEALTH CARE</td>\n      <td>Medicare</td>\n      <td>ENGL</td>\n      <td>CATHOLIC</td>\n      <td>MARRIED</td>\n      <td>WHITE</td>\n      <td>NaN</td>\n      <td>NaN</td>\n      <td>BRAIN MASS</td>\n      <td>0</td>\n      <td>1</td>\n    </tr>\n    <tr>\n      <th>3</th>\n      <td>24</td>\n      <td>24</td>\n      <td>161859</td>\n      <td>2139-06-06 16:14:00</td>\n      <td>2139-06-09 12:48:00</td>\n      <td>NaN</td>\n      <td>EMERGENCY</td>\n      <td>TRANSFER FROM HOSP/EXTRAM</td>\n      <td>HOME</td>\n      <td>Private</td>\n      <td>NaN</td>\n      <td>PROTESTANT QUAKER</td>\n      <td>SINGLE</td>\n      <td>WHITE</td>\n      <td>NaN</td>\n      <td>NaN</td>\n      <td>INTERIOR MYOCARDIAL INFARCTION</td>\n      <td>0</td>\n      <td>1</td>\n    </tr>\n    <tr>\n      <th>4</th>\n      <td>25</td>\n      <td>25</td>\n      <td>129635</td>\n      <td>2160-11-02 02:06:00</td>\n      <td>2160-11-05 14:55:00</td>\n      <td>NaN</td>\n      <td>EMERGENCY</td>\n      <td>EMERGENCY ROOM ADMIT</td>\n      <td>HOME</td>\n      <td>Private</td>\n      <td>NaN</td>\n      <td>UNOBTAINABLE</td>\n      <td>MARRIED</td>\n      <td>WHITE</td>\n      <td>2160-11-02 01:01:00</td>\n      <td>2160-11-02 04:27:00</td>\n      <td>ACUTE CORONARY SYNDROME</td>\n      <td>0</td>\n      <td>1</td>\n    </tr>\n    <tr>\n      <th>...</th>\n      <td>...</td>\n      <td>...</td>\n      <td>...</td>\n      <td>...</td>\n      <td>...</td>\n      <td>...</td>\n      <td>...</td>\n      <td>...</td>\n      <td>...</td>\n      <td>...</td>\n      <td>...</td>\n      <td>...</td>\n      <td>...</td>\n      <td>...</td>\n      <td>...</td>\n      <td>...</td>\n      <td>...</td>\n      <td>...</td>\n      <td>...</td>\n    </tr>\n    <tr>\n      <th>58971</th>\n      <td>58594</td>\n      <td>98800</td>\n      <td>191113</td>\n      <td>2131-03-30 21:13:00</td>\n      <td>2131-04-02 15:02:00</td>\n      <td>NaN</td>\n      <td>EMERGENCY</td>\n      <td>CLINIC REFERRAL/PREMATURE</td>\n      <td>HOME</td>\n      <td>Private</td>\n      <td>ENGL</td>\n      <td>NOT SPECIFIED</td>\n      <td>SINGLE</td>\n      <td>WHITE</td>\n      <td>2131-03-30 19:44:00</td>\n      <td>2131-03-30 22:41:00</td>\n      <td>TRAUMA</td>\n      <td>0</td>\n      <td>1</td>\n    </tr>\n    <tr>\n      <th>58972</th>\n      <td>58595</td>\n      <td>98802</td>\n      <td>101071</td>\n      <td>2151-03-05 20:00:00</td>\n      <td>2151-03-06 09:10:00</td>\n      <td>2151-03-06 09:10:00</td>\n      <td>EMERGENCY</td>\n      <td>CLINIC REFERRAL/PREMATURE</td>\n      <td>DEAD/EXPIRED</td>\n      <td>Medicare</td>\n      <td>ENGL</td>\n      <td>CATHOLIC</td>\n      <td>WIDOWED</td>\n      <td>WHITE</td>\n      <td>2151-03-05 17:23:00</td>\n      <td>2151-03-05 21:06:00</td>\n      <td>SAH</td>\n      <td>1</td>\n      <td>1</td>\n    </tr>\n    <tr>\n      <th>58973</th>\n      <td>58596</td>\n      <td>98805</td>\n      <td>122631</td>\n      <td>2200-09-12 07:15:00</td>\n      <td>2200-09-20 12:08:00</td>\n      <td>NaN</td>\n      <td>ELECTIVE</td>\n      <td>PHYS REFERRAL/NORMAL DELI</td>\n      <td>HOME HEALTH CARE</td>\n      <td>Private</td>\n      <td>ENGL</td>\n      <td>NOT SPECIFIED</td>\n      <td>MARRIED</td>\n      <td>WHITE</td>\n      <td>NaN</td>\n      <td>NaN</td>\n      <td>RENAL CANCER/SDA</td>\n      <td>0</td>\n      <td>1</td>\n    </tr>\n    <tr>\n      <th>58974</th>\n      <td>58597</td>\n      <td>98813</td>\n      <td>170407</td>\n      <td>2128-11-11 02:29:00</td>\n      <td>2128-12-22 13:11:00</td>\n      <td>NaN</td>\n      <td>EMERGENCY</td>\n      <td>EMERGENCY ROOM ADMIT</td>\n      <td>SNF</td>\n      <td>Private</td>\n      <td>ENGL</td>\n      <td>CATHOLIC</td>\n      <td>MARRIED</td>\n      <td>WHITE</td>\n      <td>2128-11-10 23:48:00</td>\n      <td>2128-11-11 03:16:00</td>\n      <td>S/P FALL</td>\n      <td>0</td>\n      <td>0</td>\n    </tr>\n    <tr>\n      <th>58975</th>\n      <td>58598</td>\n      <td>98813</td>\n      <td>190264</td>\n      <td>2131-10-25 03:09:00</td>\n      <td>2131-10-26 17:44:00</td>\n      <td>NaN</td>\n      <td>EMERGENCY</td>\n      <td>CLINIC REFERRAL/PREMATURE</td>\n      <td>HOME</td>\n      <td>Private</td>\n      <td>ENGL</td>\n      <td>CATHOLIC</td>\n      <td>MARRIED</td>\n      <td>WHITE</td>\n      <td>2131-10-25 00:08:00</td>\n      <td>2131-10-25 04:35:00</td>\n      <td>INTRACRANIAL HEMORRHAGE</td>\n      <td>0</td>\n      <td>1</td>\n    </tr>\n  </tbody>\n</table>\n<p>58976 rows × 19 columns</p>\n</div>"
     },
     "execution_count": 273,
     "metadata": {},
     "output_type": "execute_result"
    }
   ],
   "source": [
    "admissions = pd.read_csv('data/ADMISSIONS.csv')\n",
    "admissions"
   ],
   "metadata": {
    "collapsed": false,
    "pycharm": {
     "name": "#%%\n"
    }
   }
  },
  {
   "cell_type": "markdown",
   "source": [
    "Keep only the necessary columns"
   ],
   "metadata": {
    "collapsed": false,
    "pycharm": {
     "name": "#%% md\n"
    }
   }
  },
  {
   "cell_type": "code",
   "execution_count": 274,
   "outputs": [],
   "source": [
    "# keep gender and age\n",
    "patients = patients[['SUBJECT_ID', 'GENDER', 'DOB']]\n",
    "# keep language, insurance, religion, marital status, ethnicity\n",
    "admissions = admissions[['SUBJECT_ID', 'LANGUAGE', 'INSURANCE', 'RELIGION', 'ETHNICITY', 'ADMITTIME']]"
   ],
   "metadata": {
    "collapsed": false,
    "pycharm": {
     "name": "#%%\n"
    }
   }
  },
  {
   "cell_type": "code",
   "execution_count": 275,
   "outputs": [
    {
     "data": {
      "text/plain": "       SUBJECT_ID GENDER                  DOB LANGUAGE INSURANCE   \n0             249      F  2075-03-13 00:00:00      NaN  Medicare  \\\n1             249      F  2075-03-13 00:00:00     ENGL  Medicare   \n2             249      F  2075-03-13 00:00:00     ENGL  Medicare   \n3             250      F  2164-12-27 00:00:00     HAIT  Self Pay   \n4             251      M  2090-03-15 00:00:00      NaN   Private   \n...           ...    ...                  ...      ...       ...   \n58971       44089      M  2026-05-25 00:00:00     ENGL  Medicare   \n58972       44115      F  2124-07-27 00:00:00     ENGL   Private   \n58973       44123      F  2049-11-26 00:00:00      NaN  Medicare   \n58974       44126      F  2076-07-25 00:00:00     ENGL   Private   \n58975       44128      M  2098-07-25 00:00:00     ENGL   Private   \n\n             RELIGION               ETHNICITY            ADMITTIME  \n0            CATHOLIC                   WHITE  2149-12-17 20:41:00  \n1            CATHOLIC                   WHITE  2155-02-03 20:16:00  \n2            CATHOLIC                   WHITE  2156-04-27 15:33:00  \n3       NOT SPECIFIED  BLACK/AFRICAN AMERICAN  2188-11-12 09:22:00  \n4               OTHER   UNKNOWN/NOT SPECIFIED  2110-07-27 06:46:00  \n...               ...                     ...                  ...  \n58971  GREEK ORTHODOX                   WHITE  2111-09-30 12:04:00  \n58972        CATHOLIC                   WHITE  2161-07-15 12:00:00  \n58973        CATHOLIC                   WHITE  2135-01-06 07:15:00  \n58974   NOT SPECIFIED                   WHITE  2129-01-03 07:15:00  \n58975   NOT SPECIFIED                   WHITE  2149-06-08 15:21:00  \n\n[58976 rows x 8 columns]",
      "text/html": "<div>\n<style scoped>\n    .dataframe tbody tr th:only-of-type {\n        vertical-align: middle;\n    }\n\n    .dataframe tbody tr th {\n        vertical-align: top;\n    }\n\n    .dataframe thead th {\n        text-align: right;\n    }\n</style>\n<table border=\"1\" class=\"dataframe\">\n  <thead>\n    <tr style=\"text-align: right;\">\n      <th></th>\n      <th>SUBJECT_ID</th>\n      <th>GENDER</th>\n      <th>DOB</th>\n      <th>LANGUAGE</th>\n      <th>INSURANCE</th>\n      <th>RELIGION</th>\n      <th>ETHNICITY</th>\n      <th>ADMITTIME</th>\n    </tr>\n  </thead>\n  <tbody>\n    <tr>\n      <th>0</th>\n      <td>249</td>\n      <td>F</td>\n      <td>2075-03-13 00:00:00</td>\n      <td>NaN</td>\n      <td>Medicare</td>\n      <td>CATHOLIC</td>\n      <td>WHITE</td>\n      <td>2149-12-17 20:41:00</td>\n    </tr>\n    <tr>\n      <th>1</th>\n      <td>249</td>\n      <td>F</td>\n      <td>2075-03-13 00:00:00</td>\n      <td>ENGL</td>\n      <td>Medicare</td>\n      <td>CATHOLIC</td>\n      <td>WHITE</td>\n      <td>2155-02-03 20:16:00</td>\n    </tr>\n    <tr>\n      <th>2</th>\n      <td>249</td>\n      <td>F</td>\n      <td>2075-03-13 00:00:00</td>\n      <td>ENGL</td>\n      <td>Medicare</td>\n      <td>CATHOLIC</td>\n      <td>WHITE</td>\n      <td>2156-04-27 15:33:00</td>\n    </tr>\n    <tr>\n      <th>3</th>\n      <td>250</td>\n      <td>F</td>\n      <td>2164-12-27 00:00:00</td>\n      <td>HAIT</td>\n      <td>Self Pay</td>\n      <td>NOT SPECIFIED</td>\n      <td>BLACK/AFRICAN AMERICAN</td>\n      <td>2188-11-12 09:22:00</td>\n    </tr>\n    <tr>\n      <th>4</th>\n      <td>251</td>\n      <td>M</td>\n      <td>2090-03-15 00:00:00</td>\n      <td>NaN</td>\n      <td>Private</td>\n      <td>OTHER</td>\n      <td>UNKNOWN/NOT SPECIFIED</td>\n      <td>2110-07-27 06:46:00</td>\n    </tr>\n    <tr>\n      <th>...</th>\n      <td>...</td>\n      <td>...</td>\n      <td>...</td>\n      <td>...</td>\n      <td>...</td>\n      <td>...</td>\n      <td>...</td>\n      <td>...</td>\n    </tr>\n    <tr>\n      <th>58971</th>\n      <td>44089</td>\n      <td>M</td>\n      <td>2026-05-25 00:00:00</td>\n      <td>ENGL</td>\n      <td>Medicare</td>\n      <td>GREEK ORTHODOX</td>\n      <td>WHITE</td>\n      <td>2111-09-30 12:04:00</td>\n    </tr>\n    <tr>\n      <th>58972</th>\n      <td>44115</td>\n      <td>F</td>\n      <td>2124-07-27 00:00:00</td>\n      <td>ENGL</td>\n      <td>Private</td>\n      <td>CATHOLIC</td>\n      <td>WHITE</td>\n      <td>2161-07-15 12:00:00</td>\n    </tr>\n    <tr>\n      <th>58973</th>\n      <td>44123</td>\n      <td>F</td>\n      <td>2049-11-26 00:00:00</td>\n      <td>NaN</td>\n      <td>Medicare</td>\n      <td>CATHOLIC</td>\n      <td>WHITE</td>\n      <td>2135-01-06 07:15:00</td>\n    </tr>\n    <tr>\n      <th>58974</th>\n      <td>44126</td>\n      <td>F</td>\n      <td>2076-07-25 00:00:00</td>\n      <td>ENGL</td>\n      <td>Private</td>\n      <td>NOT SPECIFIED</td>\n      <td>WHITE</td>\n      <td>2129-01-03 07:15:00</td>\n    </tr>\n    <tr>\n      <th>58975</th>\n      <td>44128</td>\n      <td>M</td>\n      <td>2098-07-25 00:00:00</td>\n      <td>ENGL</td>\n      <td>Private</td>\n      <td>NOT SPECIFIED</td>\n      <td>WHITE</td>\n      <td>2149-06-08 15:21:00</td>\n    </tr>\n  </tbody>\n</table>\n<p>58976 rows × 8 columns</p>\n</div>"
     },
     "execution_count": 275,
     "metadata": {},
     "output_type": "execute_result"
    }
   ],
   "source": [
    "demographics = patients.merge(admissions, how='left', on='SUBJECT_ID')\n",
    "demographics"
   ],
   "metadata": {
    "collapsed": false,
    "pycharm": {
     "name": "#%%\n"
    }
   }
  },
  {
   "cell_type": "markdown",
   "source": [
    "##### Gender preprocessing\n",
    "The privileged class (1) is the majority class, which is the M(ale)."
   ],
   "metadata": {
    "collapsed": false,
    "pycharm": {
     "name": "#%% md\n"
    }
   }
  },
  {
   "cell_type": "code",
   "execution_count": 276,
   "outputs": [
    {
     "name": "stdout",
     "output_type": "stream",
     "text": [
      "Number of Null values:  0\n"
     ]
    },
    {
     "data": {
      "text/plain": "GENDER\nM    32950\nF    26026\nName: count, dtype: int64"
     },
     "execution_count": 276,
     "metadata": {},
     "output_type": "execute_result"
    }
   ],
   "source": [
    "print(\"Number of Null values: \", demographics['GENDER'].isna().sum())\n",
    "demographics['GENDER'].value_counts()"
   ],
   "metadata": {
    "collapsed": false,
    "pycharm": {
     "name": "#%%\n"
    }
   }
  },
  {
   "cell_type": "code",
   "execution_count": 277,
   "outputs": [
    {
     "data": {
      "text/plain": "       SUBJECT_ID  GENDER                  DOB LANGUAGE INSURANCE   \n0             249       0  2075-03-13 00:00:00      NaN  Medicare  \\\n1             249       0  2075-03-13 00:00:00     ENGL  Medicare   \n2             249       0  2075-03-13 00:00:00     ENGL  Medicare   \n3             250       0  2164-12-27 00:00:00     HAIT  Self Pay   \n4             251       1  2090-03-15 00:00:00      NaN   Private   \n...           ...     ...                  ...      ...       ...   \n58971       44089       1  2026-05-25 00:00:00     ENGL  Medicare   \n58972       44115       0  2124-07-27 00:00:00     ENGL   Private   \n58973       44123       0  2049-11-26 00:00:00      NaN  Medicare   \n58974       44126       0  2076-07-25 00:00:00     ENGL   Private   \n58975       44128       1  2098-07-25 00:00:00     ENGL   Private   \n\n             RELIGION               ETHNICITY            ADMITTIME  \n0            CATHOLIC                   WHITE  2149-12-17 20:41:00  \n1            CATHOLIC                   WHITE  2155-02-03 20:16:00  \n2            CATHOLIC                   WHITE  2156-04-27 15:33:00  \n3       NOT SPECIFIED  BLACK/AFRICAN AMERICAN  2188-11-12 09:22:00  \n4               OTHER   UNKNOWN/NOT SPECIFIED  2110-07-27 06:46:00  \n...               ...                     ...                  ...  \n58971  GREEK ORTHODOX                   WHITE  2111-09-30 12:04:00  \n58972        CATHOLIC                   WHITE  2161-07-15 12:00:00  \n58973        CATHOLIC                   WHITE  2135-01-06 07:15:00  \n58974   NOT SPECIFIED                   WHITE  2129-01-03 07:15:00  \n58975   NOT SPECIFIED                   WHITE  2149-06-08 15:21:00  \n\n[58976 rows x 8 columns]",
      "text/html": "<div>\n<style scoped>\n    .dataframe tbody tr th:only-of-type {\n        vertical-align: middle;\n    }\n\n    .dataframe tbody tr th {\n        vertical-align: top;\n    }\n\n    .dataframe thead th {\n        text-align: right;\n    }\n</style>\n<table border=\"1\" class=\"dataframe\">\n  <thead>\n    <tr style=\"text-align: right;\">\n      <th></th>\n      <th>SUBJECT_ID</th>\n      <th>GENDER</th>\n      <th>DOB</th>\n      <th>LANGUAGE</th>\n      <th>INSURANCE</th>\n      <th>RELIGION</th>\n      <th>ETHNICITY</th>\n      <th>ADMITTIME</th>\n    </tr>\n  </thead>\n  <tbody>\n    <tr>\n      <th>0</th>\n      <td>249</td>\n      <td>0</td>\n      <td>2075-03-13 00:00:00</td>\n      <td>NaN</td>\n      <td>Medicare</td>\n      <td>CATHOLIC</td>\n      <td>WHITE</td>\n      <td>2149-12-17 20:41:00</td>\n    </tr>\n    <tr>\n      <th>1</th>\n      <td>249</td>\n      <td>0</td>\n      <td>2075-03-13 00:00:00</td>\n      <td>ENGL</td>\n      <td>Medicare</td>\n      <td>CATHOLIC</td>\n      <td>WHITE</td>\n      <td>2155-02-03 20:16:00</td>\n    </tr>\n    <tr>\n      <th>2</th>\n      <td>249</td>\n      <td>0</td>\n      <td>2075-03-13 00:00:00</td>\n      <td>ENGL</td>\n      <td>Medicare</td>\n      <td>CATHOLIC</td>\n      <td>WHITE</td>\n      <td>2156-04-27 15:33:00</td>\n    </tr>\n    <tr>\n      <th>3</th>\n      <td>250</td>\n      <td>0</td>\n      <td>2164-12-27 00:00:00</td>\n      <td>HAIT</td>\n      <td>Self Pay</td>\n      <td>NOT SPECIFIED</td>\n      <td>BLACK/AFRICAN AMERICAN</td>\n      <td>2188-11-12 09:22:00</td>\n    </tr>\n    <tr>\n      <th>4</th>\n      <td>251</td>\n      <td>1</td>\n      <td>2090-03-15 00:00:00</td>\n      <td>NaN</td>\n      <td>Private</td>\n      <td>OTHER</td>\n      <td>UNKNOWN/NOT SPECIFIED</td>\n      <td>2110-07-27 06:46:00</td>\n    </tr>\n    <tr>\n      <th>...</th>\n      <td>...</td>\n      <td>...</td>\n      <td>...</td>\n      <td>...</td>\n      <td>...</td>\n      <td>...</td>\n      <td>...</td>\n      <td>...</td>\n    </tr>\n    <tr>\n      <th>58971</th>\n      <td>44089</td>\n      <td>1</td>\n      <td>2026-05-25 00:00:00</td>\n      <td>ENGL</td>\n      <td>Medicare</td>\n      <td>GREEK ORTHODOX</td>\n      <td>WHITE</td>\n      <td>2111-09-30 12:04:00</td>\n    </tr>\n    <tr>\n      <th>58972</th>\n      <td>44115</td>\n      <td>0</td>\n      <td>2124-07-27 00:00:00</td>\n      <td>ENGL</td>\n      <td>Private</td>\n      <td>CATHOLIC</td>\n      <td>WHITE</td>\n      <td>2161-07-15 12:00:00</td>\n    </tr>\n    <tr>\n      <th>58973</th>\n      <td>44123</td>\n      <td>0</td>\n      <td>2049-11-26 00:00:00</td>\n      <td>NaN</td>\n      <td>Medicare</td>\n      <td>CATHOLIC</td>\n      <td>WHITE</td>\n      <td>2135-01-06 07:15:00</td>\n    </tr>\n    <tr>\n      <th>58974</th>\n      <td>44126</td>\n      <td>0</td>\n      <td>2076-07-25 00:00:00</td>\n      <td>ENGL</td>\n      <td>Private</td>\n      <td>NOT SPECIFIED</td>\n      <td>WHITE</td>\n      <td>2129-01-03 07:15:00</td>\n    </tr>\n    <tr>\n      <th>58975</th>\n      <td>44128</td>\n      <td>1</td>\n      <td>2098-07-25 00:00:00</td>\n      <td>ENGL</td>\n      <td>Private</td>\n      <td>NOT SPECIFIED</td>\n      <td>WHITE</td>\n      <td>2149-06-08 15:21:00</td>\n    </tr>\n  </tbody>\n</table>\n<p>58976 rows × 8 columns</p>\n</div>"
     },
     "execution_count": 277,
     "metadata": {},
     "output_type": "execute_result"
    }
   ],
   "source": [
    "demographics['GENDER'] = demographics['GENDER'].apply(lambda gender: 0 if gender == \"F\" else 1)\n",
    "demographics"
   ],
   "metadata": {
    "collapsed": false,
    "pycharm": {
     "name": "#%%\n"
    }
   }
  },
  {
   "cell_type": "markdown",
   "source": [
    "##### Age preprocessing\n",
    "The privileged class (1) is the non-older adults (<=65).\n"
   ],
   "metadata": {
    "collapsed": false,
    "pycharm": {
     "name": "#%% md\n"
    }
   }
  },
  {
   "cell_type": "code",
   "execution_count": 278,
   "outputs": [],
   "source": [
    "# there is a defined rule to \"de-anonymize\" the age attribute\n",
    "def age(demographics):\n",
    "    demographics['ADMITTIME'] = pd.to_datetime(demographics['ADMITTIME']).dt.date\n",
    "    demographics['DOB'] = pd.to_datetime(demographics['DOB']).dt.date\n",
    "    demographics['AGE'] = demographics.apply(lambda row:int((row['ADMITTIME'] - row['DOB']).days/365.242), axis=1)\n",
    "    demographics.loc[demographics['AGE'] <= 0, 'AGE'] = 90\n",
    "    demographics.loc[demographics['AGE'] >= 300, 'AGE'] = 90\n",
    "    return demographics"
   ],
   "metadata": {
    "collapsed": false,
    "pycharm": {
     "name": "#%%\n"
    }
   }
  },
  {
   "cell_type": "code",
   "execution_count": 279,
   "outputs": [
    {
     "name": "stdout",
     "output_type": "stream",
     "text": [
      "Number of Null values:  0\n"
     ]
    },
    {
     "data": {
      "text/plain": "(array([  796.,  1646.,  1672.,  3306.,  4773.,  7344.,  8451.,  7180.,\n         8492., 15316.]),\n array([14. , 21.6, 29.2, 36.8, 44.4, 52. , 59.6, 67.2, 74.8, 82.4, 90. ]),\n <BarContainer object of 10 artists>)"
     },
     "execution_count": 279,
     "metadata": {},
     "output_type": "execute_result"
    },
    {
     "data": {
      "text/plain": "<Figure size 640x480 with 1 Axes>",
      "image/png": "[encoded data removed]"
     },
     "metadata": {},
     "output_type": "display_data"
    }
   ],
   "source": [
    "demographics = age(demographics)\n",
    "print(\"Number of Null values: \", demographics['AGE'].isna().sum())\n",
    "plt.hist(demographics['AGE'])"
   ],
   "metadata": {
    "collapsed": false,
    "pycharm": {
     "name": "#%%\n"
    }
   }
  },
  {
   "cell_type": "code",
   "execution_count": 280,
   "outputs": [
    {
     "data": {
      "text/plain": "       SUBJECT_ID  GENDER LANGUAGE INSURANCE        RELIGION   \n0             249       0      NaN  Medicare        CATHOLIC  \\\n1             249       0     ENGL  Medicare        CATHOLIC   \n2             249       0     ENGL  Medicare        CATHOLIC   \n3             250       0     HAIT  Self Pay   NOT SPECIFIED   \n4             251       1      NaN   Private           OTHER   \n...           ...     ...      ...       ...             ...   \n58971       44089       1     ENGL  Medicare  GREEK ORTHODOX   \n58972       44115       0     ENGL   Private        CATHOLIC   \n58973       44123       0      NaN  Medicare        CATHOLIC   \n58974       44126       0     ENGL   Private   NOT SPECIFIED   \n58975       44128       1     ENGL   Private   NOT SPECIFIED   \n\n                    ETHNICITY  AGE  \n0                       WHITE    0  \n1                       WHITE    0  \n2                       WHITE    0  \n3      BLACK/AFRICAN AMERICAN    1  \n4       UNKNOWN/NOT SPECIFIED    1  \n...                       ...  ...  \n58971                   WHITE    0  \n58972                   WHITE    1  \n58973                   WHITE    0  \n58974                   WHITE    1  \n58975                   WHITE    1  \n\n[58976 rows x 7 columns]",
      "text/html": "<div>\n<style scoped>\n    .dataframe tbody tr th:only-of-type {\n        vertical-align: middle;\n    }\n\n    .dataframe tbody tr th {\n        vertical-align: top;\n    }\n\n    .dataframe thead th {\n        text-align: right;\n    }\n</style>\n<table border=\"1\" class=\"dataframe\">\n  <thead>\n    <tr style=\"text-align: right;\">\n      <th></th>\n      <th>SUBJECT_ID</th>\n      <th>GENDER</th>\n      <th>LANGUAGE</th>\n      <th>INSURANCE</th>\n      <th>RELIGION</th>\n      <th>ETHNICITY</th>\n      <th>AGE</th>\n    </tr>\n  </thead>\n  <tbody>\n    <tr>\n      <th>0</th>\n      <td>249</td>\n      <td>0</td>\n      <td>NaN</td>\n      <td>Medicare</td>\n      <td>CATHOLIC</td>\n      <td>WHITE</td>\n      <td>0</td>\n    </tr>\n    <tr>\n      <th>1</th>\n      <td>249</td>\n      <td>0</td>\n      <td>ENGL</td>\n      <td>Medicare</td>\n      <td>CATHOLIC</td>\n      <td>WHITE</td>\n      <td>0</td>\n    </tr>\n    <tr>\n      <th>2</th>\n      <td>249</td>\n      <td>0</td>\n      <td>ENGL</td>\n      <td>Medicare</td>\n      <td>CATHOLIC</td>\n      <td>WHITE</td>\n      <td>0</td>\n    </tr>\n    <tr>\n      <th>3</th>\n      <td>250</td>\n      <td>0</td>\n      <td>HAIT</td>\n      <td>Self Pay</td>\n      <td>NOT SPECIFIED</td>\n      <td>BLACK/AFRICAN AMERICAN</td>\n      <td>1</td>\n    </tr>\n    <tr>\n      <th>4</th>\n      <td>251</td>\n      <td>1</td>\n      <td>NaN</td>\n      <td>Private</td>\n      <td>OTHER</td>\n      <td>UNKNOWN/NOT SPECIFIED</td>\n      <td>1</td>\n    </tr>\n    <tr>\n      <th>...</th>\n      <td>...</td>\n      <td>...</td>\n      <td>...</td>\n      <td>...</td>\n      <td>...</td>\n      <td>...</td>\n      <td>...</td>\n    </tr>\n    <tr>\n      <th>58971</th>\n      <td>44089</td>\n      <td>1</td>\n      <td>ENGL</td>\n      <td>Medicare</td>\n      <td>GREEK ORTHODOX</td>\n      <td>WHITE</td>\n      <td>0</td>\n    </tr>\n    <tr>\n      <th>58972</th>\n      <td>44115</td>\n      <td>0</td>\n      <td>ENGL</td>\n      <td>Private</td>\n      <td>CATHOLIC</td>\n      <td>WHITE</td>\n      <td>1</td>\n    </tr>\n    <tr>\n      <th>58973</th>\n      <td>44123</td>\n      <td>0</td>\n      <td>NaN</td>\n      <td>Medicare</td>\n      <td>CATHOLIC</td>\n      <td>WHITE</td>\n      <td>0</td>\n    </tr>\n    <tr>\n      <th>58974</th>\n      <td>44126</td>\n      <td>0</td>\n      <td>ENGL</td>\n      <td>Private</td>\n      <td>NOT SPECIFIED</td>\n      <td>WHITE</td>\n      <td>1</td>\n    </tr>\n    <tr>\n      <th>58975</th>\n      <td>44128</td>\n      <td>1</td>\n      <td>ENGL</td>\n      <td>Private</td>\n      <td>NOT SPECIFIED</td>\n      <td>WHITE</td>\n      <td>1</td>\n    </tr>\n  </tbody>\n</table>\n<p>58976 rows × 7 columns</p>\n</div>"
     },
     "execution_count": 280,
     "metadata": {},
     "output_type": "execute_result"
    }
   ],
   "source": [
    "demographics['AGE'] = demographics['AGE'].apply(lambda age:1 if age<=65 else 0)\n",
    "demographics.drop(columns=['DOB', 'ADMITTIME'], inplace=True)\n",
    "demographics"
   ],
   "metadata": {
    "collapsed": false,
    "pycharm": {
     "name": "#%%\n"
    }
   }
  },
  {
   "cell_type": "markdown",
   "source": [
    "##### Language preprocessing\n",
    "The privileged class (1) is the English speakers.\n",
    "Binarize the languages into English and non-english and the give null values the majority class."
   ],
   "metadata": {
    "collapsed": false,
    "pycharm": {
     "name": "#%% md\n"
    }
   }
  },
  {
   "cell_type": "code",
   "execution_count": 281,
   "outputs": [
    {
     "name": "stdout",
     "output_type": "stream",
     "text": [
      "Number of Null values:  25332\n"
     ]
    },
    {
     "data": {
      "text/plain": "LANGUAGE\nENGL    29086\nSPAN     1083\nRUSS      790\nPTUN      628\nCANT      413\n        ...  \n*PUN        1\n*ROM        1\n*PHI        1\n* FU        1\n** T        1\nName: count, Length: 75, dtype: int64"
     },
     "execution_count": 281,
     "metadata": {},
     "output_type": "execute_result"
    }
   ],
   "source": [
    "print(\"Number of Null values: \", demographics['LANGUAGE'].isna().sum())\n",
    "demographics['LANGUAGE'].value_counts()"
   ],
   "metadata": {
    "collapsed": false,
    "pycharm": {
     "name": "#%%\n"
    }
   }
  },
  {
   "cell_type": "code",
   "execution_count": 282,
   "outputs": [
    {
     "data": {
      "text/plain": "LANGUAGE\nENGL    54418\nSPAN     1083\nRUSS      790\nPTUN      628\nCANT      413\n        ...  \n*PUN        1\n*ROM        1\n*PHI        1\n* FU        1\n** T        1\nName: count, Length: 75, dtype: int64"
     },
     "execution_count": 282,
     "metadata": {},
     "output_type": "execute_result"
    }
   ],
   "source": [
    "# fill nans with the majority class\n",
    "demographics['LANGUAGE'] = demographics['LANGUAGE'].fillna(demographics['LANGUAGE'].value_counts().keys()[0])\n",
    "demographics['LANGUAGE'].value_counts()"
   ],
   "metadata": {
    "collapsed": false,
    "pycharm": {
     "name": "#%%\n"
    }
   }
  },
  {
   "cell_type": "code",
   "execution_count": 283,
   "outputs": [
    {
     "data": {
      "text/plain": "       SUBJECT_ID  GENDER  LANGUAGE INSURANCE        RELIGION   \n0             249       0         1  Medicare        CATHOLIC  \\\n1             249       0         1  Medicare        CATHOLIC   \n2             249       0         1  Medicare        CATHOLIC   \n3             250       0         0  Self Pay   NOT SPECIFIED   \n4             251       1         1   Private           OTHER   \n...           ...     ...       ...       ...             ...   \n58971       44089       1         1  Medicare  GREEK ORTHODOX   \n58972       44115       0         1   Private        CATHOLIC   \n58973       44123       0         1  Medicare        CATHOLIC   \n58974       44126       0         1   Private   NOT SPECIFIED   \n58975       44128       1         1   Private   NOT SPECIFIED   \n\n                    ETHNICITY  AGE  \n0                       WHITE    0  \n1                       WHITE    0  \n2                       WHITE    0  \n3      BLACK/AFRICAN AMERICAN    1  \n4       UNKNOWN/NOT SPECIFIED    1  \n...                       ...  ...  \n58971                   WHITE    0  \n58972                   WHITE    1  \n58973                   WHITE    0  \n58974                   WHITE    1  \n58975                   WHITE    1  \n\n[58976 rows x 7 columns]",
      "text/html": "<div>\n<style scoped>\n    .dataframe tbody tr th:only-of-type {\n        vertical-align: middle;\n    }\n\n    .dataframe tbody tr th {\n        vertical-align: top;\n    }\n\n    .dataframe thead th {\n        text-align: right;\n    }\n</style>\n<table border=\"1\" class=\"dataframe\">\n  <thead>\n    <tr style=\"text-align: right;\">\n      <th></th>\n      <th>SUBJECT_ID</th>\n      <th>GENDER</th>\n      <th>LANGUAGE</th>\n      <th>INSURANCE</th>\n      <th>RELIGION</th>\n      <th>ETHNICITY</th>\n      <th>AGE</th>\n    </tr>\n  </thead>\n  <tbody>\n    <tr>\n      <th>0</th>\n      <td>249</td>\n      <td>0</td>\n      <td>1</td>\n      <td>Medicare</td>\n      <td>CATHOLIC</td>\n      <td>WHITE</td>\n      <td>0</td>\n    </tr>\n    <tr>\n      <th>1</th>\n      <td>249</td>\n      <td>0</td>\n      <td>1</td>\n      <td>Medicare</td>\n      <td>CATHOLIC</td>\n      <td>WHITE</td>\n      <td>0</td>\n    </tr>\n    <tr>\n      <th>2</th>\n      <td>249</td>\n      <td>0</td>\n      <td>1</td>\n      <td>Medicare</td>\n      <td>CATHOLIC</td>\n      <td>WHITE</td>\n      <td>0</td>\n    </tr>\n    <tr>\n      <th>3</th>\n      <td>250</td>\n      <td>0</td>\n      <td>0</td>\n      <td>Self Pay</td>\n      <td>NOT SPECIFIED</td>\n      <td>BLACK/AFRICAN AMERICAN</td>\n      <td>1</td>\n    </tr>\n    <tr>\n      <th>4</th>\n      <td>251</td>\n      <td>1</td>\n      <td>1</td>\n      <td>Private</td>\n      <td>OTHER</td>\n      <td>UNKNOWN/NOT SPECIFIED</td>\n      <td>1</td>\n    </tr>\n    <tr>\n      <th>...</th>\n      <td>...</td>\n      <td>...</td>\n      <td>...</td>\n      <td>...</td>\n      <td>...</td>\n      <td>...</td>\n      <td>...</td>\n    </tr>\n    <tr>\n      <th>58971</th>\n      <td>44089</td>\n      <td>1</td>\n      <td>1</td>\n      <td>Medicare</td>\n      <td>GREEK ORTHODOX</td>\n      <td>WHITE</td>\n      <td>0</td>\n    </tr>\n    <tr>\n      <th>58972</th>\n      <td>44115</td>\n      <td>0</td>\n      <td>1</td>\n      <td>Private</td>\n      <td>CATHOLIC</td>\n      <td>WHITE</td>\n      <td>1</td>\n    </tr>\n    <tr>\n      <th>58973</th>\n      <td>44123</td>\n      <td>0</td>\n      <td>1</td>\n      <td>Medicare</td>\n      <td>CATHOLIC</td>\n      <td>WHITE</td>\n      <td>0</td>\n    </tr>\n    <tr>\n      <th>58974</th>\n      <td>44126</td>\n      <td>0</td>\n      <td>1</td>\n      <td>Private</td>\n      <td>NOT SPECIFIED</td>\n      <td>WHITE</td>\n      <td>1</td>\n    </tr>\n    <tr>\n      <th>58975</th>\n      <td>44128</td>\n      <td>1</td>\n      <td>1</td>\n      <td>Private</td>\n      <td>NOT SPECIFIED</td>\n      <td>WHITE</td>\n      <td>1</td>\n    </tr>\n  </tbody>\n</table>\n<p>58976 rows × 7 columns</p>\n</div>"
     },
     "execution_count": 283,
     "metadata": {},
     "output_type": "execute_result"
    }
   ],
   "source": [
    "demographics['LANGUAGE'] = demographics['LANGUAGE'].apply(lambda language:1 if language=='ENGL' else 0)\n",
    "demographics"
   ],
   "metadata": {
    "collapsed": false,
    "pycharm": {
     "name": "#%%\n"
    }
   }
  },
  {
   "cell_type": "markdown",
   "source": [
    "##### Insurance preprocessing\n",
    "The privileged class (1) is the patients with insurance (all types except Self Pay).\n",
    "Binarize the insurance into Self-Pay and all the other insurance types."
   ],
   "metadata": {
    "collapsed": false,
    "pycharm": {
     "name": "#%% md\n"
    }
   }
  },
  {
   "cell_type": "code",
   "execution_count": 284,
   "outputs": [
    {
     "name": "stdout",
     "output_type": "stream",
     "text": [
      "Number of Null values:  0\n"
     ]
    },
    {
     "data": {
      "text/plain": "INSURANCE\nMedicare      28215\nPrivate       22582\nMedicaid       5785\nGovernment     1783\nSelf Pay        611\nName: count, dtype: int64"
     },
     "execution_count": 284,
     "metadata": {},
     "output_type": "execute_result"
    }
   ],
   "source": [
    "print(\"Number of Null values: \", demographics['INSURANCE'].isna().sum())\n",
    "demographics['INSURANCE'].value_counts()"
   ],
   "metadata": {
    "collapsed": false,
    "pycharm": {
     "name": "#%%\n"
    }
   }
  },
  {
   "cell_type": "code",
   "execution_count": 285,
   "outputs": [
    {
     "data": {
      "text/plain": "       SUBJECT_ID  GENDER  LANGUAGE  INSURANCE        RELIGION   \n0             249       0         1          1        CATHOLIC  \\\n1             249       0         1          1        CATHOLIC   \n2             249       0         1          1        CATHOLIC   \n3             250       0         0          0   NOT SPECIFIED   \n4             251       1         1          1           OTHER   \n...           ...     ...       ...        ...             ...   \n58971       44089       1         1          1  GREEK ORTHODOX   \n58972       44115       0         1          1        CATHOLIC   \n58973       44123       0         1          1        CATHOLIC   \n58974       44126       0         1          1   NOT SPECIFIED   \n58975       44128       1         1          1   NOT SPECIFIED   \n\n                    ETHNICITY  AGE  \n0                       WHITE    0  \n1                       WHITE    0  \n2                       WHITE    0  \n3      BLACK/AFRICAN AMERICAN    1  \n4       UNKNOWN/NOT SPECIFIED    1  \n...                       ...  ...  \n58971                   WHITE    0  \n58972                   WHITE    1  \n58973                   WHITE    0  \n58974                   WHITE    1  \n58975                   WHITE    1  \n\n[58976 rows x 7 columns]",
      "text/html": "<div>\n<style scoped>\n    .dataframe tbody tr th:only-of-type {\n        vertical-align: middle;\n    }\n\n    .dataframe tbody tr th {\n        vertical-align: top;\n    }\n\n    .dataframe thead th {\n        text-align: right;\n    }\n</style>\n<table border=\"1\" class=\"dataframe\">\n  <thead>\n    <tr style=\"text-align: right;\">\n      <th></th>\n      <th>SUBJECT_ID</th>\n      <th>GENDER</th>\n      <th>LANGUAGE</th>\n      <th>INSURANCE</th>\n      <th>RELIGION</th>\n      <th>ETHNICITY</th>\n      <th>AGE</th>\n    </tr>\n  </thead>\n  <tbody>\n    <tr>\n      <th>0</th>\n      <td>249</td>\n      <td>0</td>\n      <td>1</td>\n      <td>1</td>\n      <td>CATHOLIC</td>\n      <td>WHITE</td>\n      <td>0</td>\n    </tr>\n    <tr>\n      <th>1</th>\n      <td>249</td>\n      <td>0</td>\n      <td>1</td>\n      <td>1</td>\n      <td>CATHOLIC</td>\n      <td>WHITE</td>\n      <td>0</td>\n    </tr>\n    <tr>\n      <th>2</th>\n      <td>249</td>\n      <td>0</td>\n      <td>1</td>\n      <td>1</td>\n      <td>CATHOLIC</td>\n      <td>WHITE</td>\n      <td>0</td>\n    </tr>\n    <tr>\n      <th>3</th>\n      <td>250</td>\n      <td>0</td>\n      <td>0</td>\n      <td>0</td>\n      <td>NOT SPECIFIED</td>\n      <td>BLACK/AFRICAN AMERICAN</td>\n      <td>1</td>\n    </tr>\n    <tr>\n      <th>4</th>\n      <td>251</td>\n      <td>1</td>\n      <td>1</td>\n      <td>1</td>\n      <td>OTHER</td>\n      <td>UNKNOWN/NOT SPECIFIED</td>\n      <td>1</td>\n    </tr>\n    <tr>\n      <th>...</th>\n      <td>...</td>\n      <td>...</td>\n      <td>...</td>\n      <td>...</td>\n      <td>...</td>\n      <td>...</td>\n      <td>...</td>\n    </tr>\n    <tr>\n      <th>58971</th>\n      <td>44089</td>\n      <td>1</td>\n      <td>1</td>\n      <td>1</td>\n      <td>GREEK ORTHODOX</td>\n      <td>WHITE</td>\n      <td>0</td>\n    </tr>\n    <tr>\n      <th>58972</th>\n      <td>44115</td>\n      <td>0</td>\n      <td>1</td>\n      <td>1</td>\n      <td>CATHOLIC</td>\n      <td>WHITE</td>\n      <td>1</td>\n    </tr>\n    <tr>\n      <th>58973</th>\n      <td>44123</td>\n      <td>0</td>\n      <td>1</td>\n      <td>1</td>\n      <td>CATHOLIC</td>\n      <td>WHITE</td>\n      <td>0</td>\n    </tr>\n    <tr>\n      <th>58974</th>\n      <td>44126</td>\n      <td>0</td>\n      <td>1</td>\n      <td>1</td>\n      <td>NOT SPECIFIED</td>\n      <td>WHITE</td>\n      <td>1</td>\n    </tr>\n    <tr>\n      <th>58975</th>\n      <td>44128</td>\n      <td>1</td>\n      <td>1</td>\n      <td>1</td>\n      <td>NOT SPECIFIED</td>\n      <td>WHITE</td>\n      <td>1</td>\n    </tr>\n  </tbody>\n</table>\n<p>58976 rows × 7 columns</p>\n</div>"
     },
     "execution_count": 285,
     "metadata": {},
     "output_type": "execute_result"
    }
   ],
   "source": [
    "demographics['INSURANCE'] = demographics['INSURANCE'].apply(lambda insurance:0 if insurance=='Self Pay' else 1)\n",
    "demographics"
   ],
   "metadata": {
    "collapsed": false,
    "pycharm": {
     "name": "#%%\n"
    }
   }
  },
  {
   "cell_type": "markdown",
   "source": [
    "##### Religion preprocessing\n",
    "The privileged class (1) is the Cristians (all religions except Jewish, Other, Buddhist, Muslim, Hindu, Hebrew).\n",
    "Binarize the insurance into Cristians and non-cristians and give the null values the majority class."
   ],
   "metadata": {
    "collapsed": false,
    "pycharm": {
     "name": "#%% md\n"
    }
   },
   "execution_count": 0
  },
  {
   "cell_type": "code",
   "execution_count": 286,
   "outputs": [
    {
     "name": "stdout",
     "output_type": "stream",
     "text": [
      "Number of Null values:  458\n"
     ]
    },
    {
     "data": {
      "text/plain": "RELIGION\nCATHOLIC                  20606\nNOT SPECIFIED             11753\nUNOBTAINABLE               8269\nPROTESTANT QUAKER          7134\nJEWISH                     5314\nOTHER                      2696\nEPISCOPALIAN                774\nGREEK ORTHODOX              459\nCHRISTIAN SCIENTIST         429\nBUDDHIST                    267\nMUSLIM                      225\nJEHOVAH'S WITNESS           139\nUNITARIAN-UNIVERSALIST      124\nHINDU                       113\nROMANIAN EAST. ORTH          83\n7TH DAY ADVENTIST            81\nBAPTIST                      28\nHEBREW                       16\nMETHODIST                     7\nLUTHERAN                      1\nName: count, dtype: int64"
     },
     "execution_count": 286,
     "metadata": {},
     "output_type": "execute_result"
    }
   ],
   "source": [
    "print(\"Number of Null values: \", demographics['RELIGION'].isna().sum())\n",
    "demographics['RELIGION'].value_counts()"
   ],
   "metadata": {
    "collapsed": false,
    "pycharm": {
     "name": "#%%\n"
    }
   }
  },
  {
   "cell_type": "code",
   "execution_count": 287,
   "outputs": [
    {
     "data": {
      "text/plain": "RELIGION\nCATHOLIC                  21064\nNOT SPECIFIED             11753\nUNOBTAINABLE               8269\nPROTESTANT QUAKER          7134\nJEWISH                     5314\nOTHER                      2696\nEPISCOPALIAN                774\nGREEK ORTHODOX              459\nCHRISTIAN SCIENTIST         429\nBUDDHIST                    267\nMUSLIM                      225\nJEHOVAH'S WITNESS           139\nUNITARIAN-UNIVERSALIST      124\nHINDU                       113\nROMANIAN EAST. ORTH          83\n7TH DAY ADVENTIST            81\nBAPTIST                      28\nHEBREW                       16\nMETHODIST                     7\nLUTHERAN                      1\nName: count, dtype: int64"
     },
     "execution_count": 287,
     "metadata": {},
     "output_type": "execute_result"
    }
   ],
   "source": [
    "# fill nans with the majority class\n",
    "demographics['RELIGION'] = demographics['RELIGION'].fillna(demographics['RELIGION'].value_counts().keys()[0])\n",
    "demographics['RELIGION'].value_counts()"
   ],
   "metadata": {
    "collapsed": false,
    "pycharm": {
     "name": "#%%\n"
    }
   }
  },
  {
   "cell_type": "code",
   "execution_count": 288,
   "outputs": [
    {
     "data": {
      "text/plain": "       SUBJECT_ID  GENDER  LANGUAGE  INSURANCE  RELIGION   \n0             249       0         1          1         1  \\\n1             249       0         1          1         1   \n2             249       0         1          1         1   \n3             250       0         0          0         1   \n4             251       1         1          1         0   \n...           ...     ...       ...        ...       ...   \n58971       44089       1         1          1         1   \n58972       44115       0         1          1         1   \n58973       44123       0         1          1         1   \n58974       44126       0         1          1         1   \n58975       44128       1         1          1         1   \n\n                    ETHNICITY  AGE  \n0                       WHITE    0  \n1                       WHITE    0  \n2                       WHITE    0  \n3      BLACK/AFRICAN AMERICAN    1  \n4       UNKNOWN/NOT SPECIFIED    1  \n...                       ...  ...  \n58971                   WHITE    0  \n58972                   WHITE    1  \n58973                   WHITE    0  \n58974                   WHITE    1  \n58975                   WHITE    1  \n\n[58976 rows x 7 columns]",
      "text/html": "<div>\n<style scoped>\n    .dataframe tbody tr th:only-of-type {\n        vertical-align: middle;\n    }\n\n    .dataframe tbody tr th {\n        vertical-align: top;\n    }\n\n    .dataframe thead th {\n        text-align: right;\n    }\n</style>\n<table border=\"1\" class=\"dataframe\">\n  <thead>\n    <tr style=\"text-align: right;\">\n      <th></th>\n      <th>SUBJECT_ID</th>\n      <th>GENDER</th>\n      <th>LANGUAGE</th>\n      <th>INSURANCE</th>\n      <th>RELIGION</th>\n      <th>ETHNICITY</th>\n      <th>AGE</th>\n    </tr>\n  </thead>\n  <tbody>\n    <tr>\n      <th>0</th>\n      <td>249</td>\n      <td>0</td>\n      <td>1</td>\n      <td>1</td>\n      <td>1</td>\n      <td>WHITE</td>\n      <td>0</td>\n    </tr>\n    <tr>\n      <th>1</th>\n      <td>249</td>\n      <td>0</td>\n      <td>1</td>\n      <td>1</td>\n      <td>1</td>\n      <td>WHITE</td>\n      <td>0</td>\n    </tr>\n    <tr>\n      <th>2</th>\n      <td>249</td>\n      <td>0</td>\n      <td>1</td>\n      <td>1</td>\n      <td>1</td>\n      <td>WHITE</td>\n      <td>0</td>\n    </tr>\n    <tr>\n      <th>3</th>\n      <td>250</td>\n      <td>0</td>\n      <td>0</td>\n      <td>0</td>\n      <td>1</td>\n      <td>BLACK/AFRICAN AMERICAN</td>\n      <td>1</td>\n    </tr>\n    <tr>\n      <th>4</th>\n      <td>251</td>\n      <td>1</td>\n      <td>1</td>\n      <td>1</td>\n      <td>0</td>\n      <td>UNKNOWN/NOT SPECIFIED</td>\n      <td>1</td>\n    </tr>\n    <tr>\n      <th>...</th>\n      <td>...</td>\n      <td>...</td>\n      <td>...</td>\n      <td>...</td>\n      <td>...</td>\n      <td>...</td>\n      <td>...</td>\n    </tr>\n    <tr>\n      <th>58971</th>\n      <td>44089</td>\n      <td>1</td>\n      <td>1</td>\n      <td>1</td>\n      <td>1</td>\n      <td>WHITE</td>\n      <td>0</td>\n    </tr>\n    <tr>\n      <th>58972</th>\n      <td>44115</td>\n      <td>0</td>\n      <td>1</td>\n      <td>1</td>\n      <td>1</td>\n      <td>WHITE</td>\n      <td>1</td>\n    </tr>\n    <tr>\n      <th>58973</th>\n      <td>44123</td>\n      <td>0</td>\n      <td>1</td>\n      <td>1</td>\n      <td>1</td>\n      <td>WHITE</td>\n      <td>0</td>\n    </tr>\n    <tr>\n      <th>58974</th>\n      <td>44126</td>\n      <td>0</td>\n      <td>1</td>\n      <td>1</td>\n      <td>1</td>\n      <td>WHITE</td>\n      <td>1</td>\n    </tr>\n    <tr>\n      <th>58975</th>\n      <td>44128</td>\n      <td>1</td>\n      <td>1</td>\n      <td>1</td>\n      <td>1</td>\n      <td>WHITE</td>\n      <td>1</td>\n    </tr>\n  </tbody>\n</table>\n<p>58976 rows × 7 columns</p>\n</div>"
     },
     "execution_count": 288,
     "metadata": {},
     "output_type": "execute_result"
    }
   ],
   "source": [
    "demographics['RELIGION'] = demographics['RELIGION'].apply(lambda religion:0 if religion == 'JEWISH' or religion == 'OTHER' or religion =='BUDDHIST' or religion == 'MUSLIM' or religion == 'HINDU' or religion == 'HEBREW' else 1)\n",
    "demographics"
   ],
   "metadata": {
    "collapsed": false,
    "pycharm": {
     "name": "#%%\n"
    }
   }
  },
  {
   "cell_type": "markdown",
   "source": [
    "##### Ethnicity preprocessing\n",
    "The privileged class (1) is the WHITE patients (WHITE, WHITE - RUSSIAN, WHITE - OTHER EUROPEAN, WHITE - BRAZILIAN, WHITE - EASTERN EUROPEAN).\n",
    "Binarize the ethnicity into WHITE and non-white."
   ],
   "metadata": {
    "collapsed": false,
    "pycharm": {
     "name": "#%% md\n"
    }
   }
  },
  {
   "cell_type": "code",
   "execution_count": 289,
   "outputs": [
    {
     "name": "stdout",
     "output_type": "stream",
     "text": [
      "Number of Null values:  0\n"
     ]
    },
    {
     "data": {
      "text/plain": "ETHNICITY\nWHITE                                                       40996\nBLACK/AFRICAN AMERICAN                                       5440\nUNKNOWN/NOT SPECIFIED                                        4523\nHISPANIC OR LATINO                                           1696\nOTHER                                                        1512\nASIAN                                                        1509\nUNABLE TO OBTAIN                                              814\nPATIENT DECLINED TO ANSWER                                    559\nASIAN - CHINESE                                               277\nHISPANIC/LATINO - PUERTO RICAN                                232\nBLACK/CAPE VERDEAN                                            200\nWHITE - RUSSIAN                                               164\nMULTI RACE ETHNICITY                                          130\nBLACK/HAITIAN                                                 101\nASIAN - ASIAN INDIAN                                           85\nWHITE - OTHER EUROPEAN                                         81\nHISPANIC/LATINO - DOMINICAN                                    78\nPORTUGUESE                                                     61\nWHITE - BRAZILIAN                                              59\nASIAN - VIETNAMESE                                             53\nAMERICAN INDIAN/ALASKA NATIVE                                  51\nBLACK/AFRICAN                                                  44\nMIDDLE EASTERN                                                 43\nHISPANIC/LATINO - GUATEMALAN                                   40\nWHITE - EASTERN EUROPEAN                                       25\nASIAN - FILIPINO                                               25\nHISPANIC/LATINO - CUBAN                                        24\nHISPANIC/LATINO - SALVADORAN                                   19\nNATIVE HAWAIIAN OR OTHER PACIFIC ISLANDER                      18\nASIAN - OTHER                                                  17\nASIAN - CAMBODIAN                                              17\nASIAN - KOREAN                                                 13\nHISPANIC/LATINO - CENTRAL AMERICAN (OTHER)                     13\nHISPANIC/LATINO - MEXICAN                                      13\nCARIBBEAN ISLAND                                                9\nHISPANIC/LATINO - COLOMBIAN                                     9\nSOUTH AMERICAN                                                  8\nASIAN - JAPANESE                                                7\nASIAN - THAI                                                    4\nHISPANIC/LATINO - HONDURAN                                      4\nAMERICAN INDIAN/ALASKA NATIVE FEDERALLY RECOGNIZED TRIBE        3\nName: count, dtype: int64"
     },
     "execution_count": 289,
     "metadata": {},
     "output_type": "execute_result"
    }
   ],
   "source": [
    "print(\"Number of Null values: \", demographics['ETHNICITY'].isna().sum())\n",
    "demographics['ETHNICITY'].value_counts()"
   ],
   "metadata": {
    "collapsed": false,
    "pycharm": {
     "name": "#%%\n"
    }
   }
  },
  {
   "cell_type": "code",
   "execution_count": 290,
   "outputs": [
    {
     "data": {
      "text/plain": "       SUBJECT_ID  GENDER  LANGUAGE  INSURANCE  RELIGION  ETHNICITY  AGE\n0             249       0         1          1         1          1    0\n1             249       0         1          1         1          1    0\n2             249       0         1          1         1          1    0\n3             250       0         0          0         1          0    1\n4             251       1         1          1         0          0    1\n...           ...     ...       ...        ...       ...        ...  ...\n58971       44089       1         1          1         1          1    0\n58972       44115       0         1          1         1          1    1\n58973       44123       0         1          1         1          1    0\n58974       44126       0         1          1         1          1    1\n58975       44128       1         1          1         1          1    1\n\n[58976 rows x 7 columns]",
      "text/html": "<div>\n<style scoped>\n    .dataframe tbody tr th:only-of-type {\n        vertical-align: middle;\n    }\n\n    .dataframe tbody tr th {\n        vertical-align: top;\n    }\n\n    .dataframe thead th {\n        text-align: right;\n    }\n</style>\n<table border=\"1\" class=\"dataframe\">\n  <thead>\n    <tr style=\"text-align: right;\">\n      <th></th>\n      <th>SUBJECT_ID</th>\n      <th>GENDER</th>\n      <th>LANGUAGE</th>\n      <th>INSURANCE</th>\n      <th>RELIGION</th>\n      <th>ETHNICITY</th>\n      <th>AGE</th>\n    </tr>\n  </thead>\n  <tbody>\n    <tr>\n      <th>0</th>\n      <td>249</td>\n      <td>0</td>\n      <td>1</td>\n      <td>1</td>\n      <td>1</td>\n      <td>1</td>\n      <td>0</td>\n    </tr>\n    <tr>\n      <th>1</th>\n      <td>249</td>\n      <td>0</td>\n      <td>1</td>\n      <td>1</td>\n      <td>1</td>\n      <td>1</td>\n      <td>0</td>\n    </tr>\n    <tr>\n      <th>2</th>\n      <td>249</td>\n      <td>0</td>\n      <td>1</td>\n      <td>1</td>\n      <td>1</td>\n      <td>1</td>\n      <td>0</td>\n    </tr>\n    <tr>\n      <th>3</th>\n      <td>250</td>\n      <td>0</td>\n      <td>0</td>\n      <td>0</td>\n      <td>1</td>\n      <td>0</td>\n      <td>1</td>\n    </tr>\n    <tr>\n      <th>4</th>\n      <td>251</td>\n      <td>1</td>\n      <td>1</td>\n      <td>1</td>\n      <td>0</td>\n      <td>0</td>\n      <td>1</td>\n    </tr>\n    <tr>\n      <th>...</th>\n      <td>...</td>\n      <td>...</td>\n      <td>...</td>\n      <td>...</td>\n      <td>...</td>\n      <td>...</td>\n      <td>...</td>\n    </tr>\n    <tr>\n      <th>58971</th>\n      <td>44089</td>\n      <td>1</td>\n      <td>1</td>\n      <td>1</td>\n      <td>1</td>\n      <td>1</td>\n      <td>0</td>\n    </tr>\n    <tr>\n      <th>58972</th>\n      <td>44115</td>\n      <td>0</td>\n      <td>1</td>\n      <td>1</td>\n      <td>1</td>\n      <td>1</td>\n      <td>1</td>\n    </tr>\n    <tr>\n      <th>58973</th>\n      <td>44123</td>\n      <td>0</td>\n      <td>1</td>\n      <td>1</td>\n      <td>1</td>\n      <td>1</td>\n      <td>0</td>\n    </tr>\n    <tr>\n      <th>58974</th>\n      <td>44126</td>\n      <td>0</td>\n      <td>1</td>\n      <td>1</td>\n      <td>1</td>\n      <td>1</td>\n      <td>1</td>\n    </tr>\n    <tr>\n      <th>58975</th>\n      <td>44128</td>\n      <td>1</td>\n      <td>1</td>\n      <td>1</td>\n      <td>1</td>\n      <td>1</td>\n      <td>1</td>\n    </tr>\n  </tbody>\n</table>\n<p>58976 rows × 7 columns</p>\n</div>"
     },
     "execution_count": 290,
     "metadata": {},
     "output_type": "execute_result"
    }
   ],
   "source": [
    "demographics['ETHNICITY'] = demographics['ETHNICITY'].apply(lambda ethnicity:1 if ethnicity == 'WHITE' or ethnicity == 'WHITE - RUSSIAN' or ethnicity =='WHITE - OTHER EUROPEAN' or ethnicity == 'WHITE - BRAZILIAN' or ethnicity == 'WHITE - EASTERN EUROPEAN' else 0)\n",
    "demographics"
   ],
   "metadata": {
    "collapsed": false,
    "pycharm": {
     "name": "#%%\n"
    }
   }
  },
  {
   "cell_type": "markdown",
   "source": [
    "##### Remove the duplicates - keep the last record of demographics updates"
   ],
   "metadata": {
    "collapsed": false,
    "pycharm": {
     "name": "#%% md\n"
    }
   }
  },
  {
   "cell_type": "code",
   "execution_count": 291,
   "outputs": [
    {
     "data": {
      "text/plain": "       SUBJECT_ID  GENDER  LANGUAGE  INSURANCE  RELIGION  ETHNICITY  AGE\n0             249       0         1          1         1          1    0\n1             250       0         0          0         1          0    1\n2             251       1         1          1         0          0    1\n3             252       1         1          1         1          1    1\n4             253       0         1          1         1          1    0\n...           ...     ...       ...        ...       ...        ...  ...\n46515       44089       1         1          1         1          1    0\n46516       44115       0         1          1         1          1    1\n46517       44123       0         1          1         1          1    0\n46518       44126       0         1          1         1          1    1\n46519       44128       1         1          1         1          1    1\n\n[46520 rows x 7 columns]",
      "text/html": "<div>\n<style scoped>\n    .dataframe tbody tr th:only-of-type {\n        vertical-align: middle;\n    }\n\n    .dataframe tbody tr th {\n        vertical-align: top;\n    }\n\n    .dataframe thead th {\n        text-align: right;\n    }\n</style>\n<table border=\"1\" class=\"dataframe\">\n  <thead>\n    <tr style=\"text-align: right;\">\n      <th></th>\n      <th>SUBJECT_ID</th>\n      <th>GENDER</th>\n      <th>LANGUAGE</th>\n      <th>INSURANCE</th>\n      <th>RELIGION</th>\n      <th>ETHNICITY</th>\n      <th>AGE</th>\n    </tr>\n  </thead>\n  <tbody>\n    <tr>\n      <th>0</th>\n      <td>249</td>\n      <td>0</td>\n      <td>1</td>\n      <td>1</td>\n      <td>1</td>\n      <td>1</td>\n      <td>0</td>\n    </tr>\n    <tr>\n      <th>1</th>\n      <td>250</td>\n      <td>0</td>\n      <td>0</td>\n      <td>0</td>\n      <td>1</td>\n      <td>0</td>\n      <td>1</td>\n    </tr>\n    <tr>\n      <th>2</th>\n      <td>251</td>\n      <td>1</td>\n      <td>1</td>\n      <td>1</td>\n      <td>0</td>\n      <td>0</td>\n      <td>1</td>\n    </tr>\n    <tr>\n      <th>3</th>\n      <td>252</td>\n      <td>1</td>\n      <td>1</td>\n      <td>1</td>\n      <td>1</td>\n      <td>1</td>\n      <td>1</td>\n    </tr>\n    <tr>\n      <th>4</th>\n      <td>253</td>\n      <td>0</td>\n      <td>1</td>\n      <td>1</td>\n      <td>1</td>\n      <td>1</td>\n      <td>0</td>\n    </tr>\n    <tr>\n      <th>...</th>\n      <td>...</td>\n      <td>...</td>\n      <td>...</td>\n      <td>...</td>\n      <td>...</td>\n      <td>...</td>\n      <td>...</td>\n    </tr>\n    <tr>\n      <th>46515</th>\n      <td>44089</td>\n      <td>1</td>\n      <td>1</td>\n      <td>1</td>\n      <td>1</td>\n      <td>1</td>\n      <td>0</td>\n    </tr>\n    <tr>\n      <th>46516</th>\n      <td>44115</td>\n      <td>0</td>\n      <td>1</td>\n      <td>1</td>\n      <td>1</td>\n      <td>1</td>\n      <td>1</td>\n    </tr>\n    <tr>\n      <th>46517</th>\n      <td>44123</td>\n      <td>0</td>\n      <td>1</td>\n      <td>1</td>\n      <td>1</td>\n      <td>1</td>\n      <td>0</td>\n    </tr>\n    <tr>\n      <th>46518</th>\n      <td>44126</td>\n      <td>0</td>\n      <td>1</td>\n      <td>1</td>\n      <td>1</td>\n      <td>1</td>\n      <td>1</td>\n    </tr>\n    <tr>\n      <th>46519</th>\n      <td>44128</td>\n      <td>1</td>\n      <td>1</td>\n      <td>1</td>\n      <td>1</td>\n      <td>1</td>\n      <td>1</td>\n    </tr>\n  </tbody>\n</table>\n<p>46520 rows × 7 columns</p>\n</div>"
     },
     "execution_count": 291,
     "metadata": {},
     "output_type": "execute_result"
    }
   ],
   "source": [
    "demographics.drop_duplicates(subset=['SUBJECT_ID'], keep='last', inplace=True)\n",
    "demographics.reset_index(drop=True, inplace=True)\n",
    "demographics"
   ],
   "metadata": {
    "collapsed": false,
    "pycharm": {
     "name": "#%%\n"
    }
   }
  },
  {
   "cell_type": "code",
   "execution_count": 292,
   "outputs": [],
   "source": [
    "demographics.to_csv('data/protected_attributes.csv', index=False)"
   ],
   "metadata": {
    "collapsed": false,
    "pycharm": {
     "name": "#%%\n"
    }
   }
  }
 ],
 "metadata": {
  "kernelspec": {
   "display_name": "Python 3",
   "language": "python",
   "name": "python3"
  },
  "language_info": {
   "codemirror_mode": {
    "name": "ipython",
    "version": 2
   },
   "file_extension": ".py",
   "mimetype": "text/x-python",
   "name": "python",
   "nbconvert_exporter": "python",
   "pygments_lexer": "ipython2",
   "version": "2.7.6"
  }
 },
 "nbformat": 4,
 "nbformat_minor": 0
}